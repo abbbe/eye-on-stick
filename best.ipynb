{
 "cells": [
  {
   "cell_type": "code",
   "execution_count": 1,
   "id": "ultimate-soldier",
   "metadata": {},
   "outputs": [],
   "source": [
    "import numpy as np\n",
    "import pandas as pd\n",
    "\n",
    "import os, urllib, time\n",
    "os.environ[\"MLFLOW_TRACKING_URI\"] = \"sqlite:///mlruns/db.sqlite\"\n",
    "import mlflow, git\n",
    "mlflow_client = mlflow.tracking.MlflowClient()"
   ]
  },
  {
   "cell_type": "code",
   "execution_count": null,
   "id": "molecular-behavior",
   "metadata": {},
   "outputs": [],
   "source": []
  },
  {
   "cell_type": "code",
   "execution_count": 12,
   "id": "peripheral-budapest",
   "metadata": {},
   "outputs": [],
   "source": [
    "def leaders(NJ, name):\n",
    "    experiment_id = \"0\"\n",
    "    run_name = f\"eos.{NJ}J {name}\"\n",
    "\n",
    "    rank_metrics = ['|alpha_tmu|', '|eyeerr_tmu|', '-reward_total']\n",
    "    print_metrics = ['model_version', 'alpha_tmu', 'alpha_tsigma', 'alpha_tdf', 'eyeerr_tmu', 'eyeerr_tsigma', 'eyeerr_tdf', 'reward_total']\n",
    "\n",
    "    parent_runs = mlflow_client.search_runs(experiment_id, f\"tags.mlflow.runName='{run_name}'\")\n",
    "\n",
    "    best_metric = dict()\n",
    "    best_run = dict()\n",
    "\n",
    "    for parent_run in parent_runs:\n",
    "        child_runs = mlflow_client.search_runs(experiment_id, f\"tags.mlflow.parentRunId='{parent_run.info.run_id}'\")\n",
    "        #                                           order_by=[\"metrics.reward_total DESC\"])\n",
    "        for child_run in child_runs:\n",
    "            if 'alpha_tmu' not in child_run.data.metrics:\n",
    "                continue\n",
    "\n",
    "            child_run.data.metrics['|alpha_tmu|'] = np.abs(child_run.data.metrics['alpha_tmu'])\n",
    "            child_run.data.metrics['|eyeerr_tmu|'] = np.abs(child_run.data.metrics['eyeerr_tmu'])\n",
    "            child_run.data.metrics['-reward_total'] = - child_run.data.metrics['reward_total']\n",
    "\n",
    "            for metric in rank_metrics:\n",
    "                if metric not in best_metric or child_run.data.metrics[metric] < best_metric[metric]:\n",
    "                    best_metric[metric] = child_run.data.metrics[metric]\n",
    "                    best_run[metric] = child_run\n",
    "    metric_values = []\n",
    "    for whats_best, run in best_run.items():\n",
    "        best_values = [run.data.metrics[metric] for metric in print_metrics]\n",
    "        metric_values.append([whats_best] + best_values)\n",
    "    return pd.DataFrame(metric_values, columns=['whats_best'] + print_metrics)                        "
   ]
  },
  {
   "cell_type": "code",
   "execution_count": 13,
   "id": "underlying-paris",
   "metadata": {},
   "outputs": [
    {
     "data": {
      "text/html": [
       "<div>\n",
       "<style scoped>\n",
       "    .dataframe tbody tr th:only-of-type {\n",
       "        vertical-align: middle;\n",
       "    }\n",
       "\n",
       "    .dataframe tbody tr th {\n",
       "        vertical-align: top;\n",
       "    }\n",
       "\n",
       "    .dataframe thead th {\n",
       "        text-align: right;\n",
       "    }\n",
       "</style>\n",
       "<table border=\"1\" class=\"dataframe\">\n",
       "  <thead>\n",
       "    <tr style=\"text-align: right;\">\n",
       "      <th></th>\n",
       "      <th>whats_best</th>\n",
       "      <th>model_version</th>\n",
       "      <th>alpha_tmu</th>\n",
       "      <th>alpha_tsigma</th>\n",
       "      <th>alpha_tdf</th>\n",
       "      <th>eyeerr_tmu</th>\n",
       "      <th>eyeerr_tsigma</th>\n",
       "      <th>eyeerr_tdf</th>\n",
       "      <th>reward_total</th>\n",
       "    </tr>\n",
       "  </thead>\n",
       "  <tbody>\n",
       "    <tr>\n",
       "      <th>0</th>\n",
       "      <td>|alpha_tmu|</td>\n",
       "      <td>213.0</td>\n",
       "      <td>0.000762</td>\n",
       "      <td>7.652273e-04</td>\n",
       "      <td>0.418541</td>\n",
       "      <td>-0.001629</td>\n",
       "      <td>1.835374e-03</td>\n",
       "      <td>0.436647</td>\n",
       "      <td>117.0</td>\n",
       "    </tr>\n",
       "    <tr>\n",
       "      <th>1</th>\n",
       "      <td>|eyeerr_tmu|</td>\n",
       "      <td>213.0</td>\n",
       "      <td>0.000762</td>\n",
       "      <td>7.652273e-04</td>\n",
       "      <td>0.418541</td>\n",
       "      <td>-0.001629</td>\n",
       "      <td>1.835374e-03</td>\n",
       "      <td>0.436647</td>\n",
       "      <td>117.0</td>\n",
       "    </tr>\n",
       "    <tr>\n",
       "      <th>2</th>\n",
       "      <td>-reward_total</td>\n",
       "      <td>206.0</td>\n",
       "      <td>-0.003831</td>\n",
       "      <td>3.705622e-09</td>\n",
       "      <td>0.093428</td>\n",
       "      <td>0.006333</td>\n",
       "      <td>1.676402e-08</td>\n",
       "      <td>0.121492</td>\n",
       "      <td>126.0</td>\n",
       "    </tr>\n",
       "  </tbody>\n",
       "</table>\n",
       "</div>"
      ],
      "text/plain": [
       "      whats_best  model_version  alpha_tmu  alpha_tsigma  alpha_tdf  \\\n",
       "0    |alpha_tmu|          213.0   0.000762  7.652273e-04   0.418541   \n",
       "1   |eyeerr_tmu|          213.0   0.000762  7.652273e-04   0.418541   \n",
       "2  -reward_total          206.0  -0.003831  3.705622e-09   0.093428   \n",
       "\n",
       "   eyeerr_tmu  eyeerr_tsigma  eyeerr_tdf  reward_total  \n",
       "0   -0.001629   1.835374e-03    0.436647         117.0  \n",
       "1   -0.001629   1.835374e-03    0.436647         117.0  \n",
       "2    0.006333   1.676402e-08    0.121492         126.0  "
      ]
     },
     "execution_count": 13,
     "metadata": {},
     "output_type": "execute_result"
    }
   ],
   "source": [
    "leaders(3, \"no eye_phi obs\")"
   ]
  },
  {
   "cell_type": "code",
   "execution_count": null,
   "id": "incorrect-being",
   "metadata": {},
   "outputs": [],
   "source": []
  }
 ],
 "metadata": {
  "kernelspec": {
   "display_name": "Python 3",
   "language": "python",
   "name": "python3"
  },
  "language_info": {
   "codemirror_mode": {
    "name": "ipython",
    "version": 3
   },
   "file_extension": ".py",
   "mimetype": "text/x-python",
   "name": "python",
   "nbconvert_exporter": "python",
   "pygments_lexer": "ipython3",
   "version": "3.6.13"
  }
 },
 "nbformat": 4,
 "nbformat_minor": 5
}
