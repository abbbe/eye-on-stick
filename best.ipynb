{
 "cells": [
  {
   "cell_type": "code",
   "execution_count": null,
   "id": "quarterly-approval",
   "metadata": {},
   "outputs": [],
   "source": [
    "import numpy as np\n",
    "import pandas as pd\n",
    "\n",
    "import os, urllib, time\n",
    "os.environ[\"MLFLOW_TRACKING_URI\"] = \"sqlite:///mlruns/db.sqlite\"\n",
    "import mlflow, git\n",
    "mlflow_client = mlflow.tracking.MlflowClient()"
   ]
  },
  {
   "cell_type": "code",
   "execution_count": null,
   "id": "altered-parliament",
   "metadata": {},
   "outputs": [],
   "source": []
  },
  {
   "cell_type": "code",
   "execution_count": null,
   "id": "vocational-dynamics",
   "metadata": {},
   "outputs": [],
   "source": [
    "def leaders(exp_name, model_name=None):\n",
    "    exp_id = mlflow.get_experiment_by_name(exp_name).experiment_id\n",
    "    print(\"# found exp_id=\", exp_id, \"for exp_name=\", exp_name)\n",
    "    \n",
    "    rank_metrics = ['|alpha_tmu|', '|eyelevel_tmu|', '-reward_total']\n",
    "    print_metrics = ['model_version', 'alpha_tmu', 'alpha_tsigma', 'alpha_tdf', 'eyelevel_tmu', 'eyelevel_tsigma', 'eyelevel_tdf', 'reward_total']\n",
    "\n",
    "    parent_runs = mlflow_client.search_runs(exp_id) # FIXME filter out child runs\n",
    "    print(\"# found \", len(parent_runs), \" runs\")\n",
    "\n",
    "    best_metric = dict()\n",
    "    best_run = dict()\n",
    "    \n",
    "    for parent_run in parent_runs:\n",
    "        #print(f\"good one {parent_run}\")\n",
    "        run_name = parent_run.data.tags['mlflow.runName']\n",
    "        if not run_name.startswith(f\"{model_name} \"):\n",
    "            continue\n",
    "            \n",
    "        print(f\"# processing {run_name}\")\n",
    "            \n",
    "        child_runs = mlflow_client.search_runs(exp_id, f\"tags.mlflow.parentRunId='{parent_run.info.run_id}'\")\n",
    "        #                                           order_by=[\"metrics.reward_total DESC\"])\n",
    "        print(\"# found \", len(child_runs), \" child_runs\")\n",
    "        for child_run in child_runs:\n",
    "            if 'alpha_tmu' not in child_run.data.metrics:\n",
    "                continue\n",
    "\n",
    "            child_run.data.metrics['|alpha_tmu|'] = np.abs(child_run.data.metrics['alpha_tmu'])\n",
    "            child_run.data.metrics['|eyelevel_tmu|'] = np.abs(child_run.data.metrics['eyelevel_tmu'])\n",
    "            child_run.data.metrics['-reward_total'] = - child_run.data.metrics['reward_total']\n",
    "\n",
    "            for metric in rank_metrics:\n",
    "                if metric not in best_metric or child_run.data.metrics[metric] < best_metric[metric]:\n",
    "                    best_metric[metric] = child_run.data.metrics[metric]\n",
    "                    best_run[metric] = child_run\n",
    "    metric_values = []\n",
    "    for whats_best, run in best_run.items():\n",
    "        best_values = [run.data.metrics[metric] for metric in print_metrics]\n",
    "        metric_values.append([whats_best] + best_values)\n",
    "\n",
    "    return pd.DataFrame(metric_values, columns=['whats_best'] + print_metrics)"
   ]
  },
  {
   "cell_type": "code",
   "execution_count": null,
   "id": "indirect-atlas",
   "metadata": {},
   "outputs": [],
   "source": [
    "leaders(\"PYB-6J-3S-1A\", \"eos3d.6j-coarse-aim\")"
   ]
  },
  {
   "cell_type": "code",
   "execution_count": null,
   "id": "after-aruba",
   "metadata": {},
   "outputs": [],
   "source": [
    "#leaders(3, \"Train 3J for 3M steps\", \"training\")"
   ]
  },
  {
   "cell_type": "code",
   "execution_count": null,
   "id": "round-oakland",
   "metadata": {},
   "outputs": [],
   "source": []
  }
 ],
 "metadata": {
  "kernelspec": {
   "display_name": "Python 3",
   "language": "python",
   "name": "python3"
  },
  "language_info": {
   "codemirror_mode": {
    "name": "ipython",
    "version": 3
   },
   "file_extension": ".py",
   "mimetype": "text/x-python",
   "name": "python",
   "nbconvert_exporter": "python",
   "pygments_lexer": "ipython3",
   "version": "3.6.13"
  }
 },
 "nbformat": 4,
 "nbformat_minor": 5
}
