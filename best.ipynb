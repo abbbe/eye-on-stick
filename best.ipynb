{
 "cells": [
  {
   "cell_type": "code",
   "execution_count": 1,
   "id": "anticipated-handbook",
   "metadata": {},
   "outputs": [],
   "source": [
    "import numpy as np\n",
    "import pandas as pd\n",
    "\n",
    "import os, urllib, time\n",
    "os.environ[\"MLFLOW_TRACKING_URI\"] = \"sqlite:///mlruns/db.sqlite\"\n",
    "import mlflow, git\n",
    "mlflow_client = mlflow.tracking.MlflowClient()"
   ]
  },
  {
   "cell_type": "code",
   "execution_count": null,
   "id": "intelligent-flooring",
   "metadata": {},
   "outputs": [],
   "source": []
  },
  {
   "cell_type": "code",
   "execution_count": 2,
   "id": "electrical-stuff",
   "metadata": {},
   "outputs": [],
   "source": [
    "def leaders(NJ, exp_name, name):\n",
    "    exp_id = mlflow.get_experiment_by_name(exp_name).experiment_id\n",
    "    print(\"# Got exp_id=\", exp_id, \"for exp_name=\", exp_name)\n",
    "    \n",
    "    run_name = f\"eos.{NJ}J {name}\"\n",
    "\n",
    "    rank_metrics = ['|alpha_tmu|', '|eyelevel_tmu|', '-reward_total']\n",
    "    print_metrics = ['model_version', 'alpha_tmu', 'alpha_tsigma', 'alpha_tdf', 'eyelevel_tmu', 'eyelevel_tsigma', 'eyelevel_tdf', 'reward_total']\n",
    "\n",
    "    parent_runs = mlflow_client.search_runs(exp_id, f\"tags.mlflow.runName='{run_name}'\")\n",
    "    print(\"# Got \", len(parent_runs), \" parent_runs\")\n",
    "\n",
    "    best_metric = dict()\n",
    "    best_run = dict()\n",
    "    \n",
    "    for parent_run in parent_runs:\n",
    "        child_runs = mlflow_client.search_runs(exp_id, f\"tags.mlflow.parentRunId='{parent_run.info.run_id}'\")\n",
    "        #                                           order_by=[\"metrics.reward_total DESC\"])\n",
    "        print(\"# Got \", len(child_runs), \" child_runs\")\n",
    "        for child_run in child_runs:\n",
    "            if 'alpha_tmu' not in child_run.data.metrics:\n",
    "                continue\n",
    "\n",
    "            child_run.data.metrics['|alpha_tmu|'] = np.abs(child_run.data.metrics['alpha_tmu'])\n",
    "            child_run.data.metrics['|eyelevel_tmu|'] = np.abs(child_run.data.metrics['eyelevel_tmu'])\n",
    "            child_run.data.metrics['-reward_total'] = - child_run.data.metrics['reward_total']\n",
    "\n",
    "            for metric in rank_metrics:\n",
    "                if metric not in best_metric or child_run.data.metrics[metric] < best_metric[metric]:\n",
    "                    best_metric[metric] = child_run.data.metrics[metric]\n",
    "                    best_run[metric] = child_run\n",
    "    metric_values = []\n",
    "    for whats_best, run in best_run.items():\n",
    "        best_values = [run.data.metrics[metric] for metric in print_metrics]\n",
    "        metric_values.append([whats_best] + best_values)\n",
    "\n",
    "    return pd.DataFrame(metric_values, columns=['whats_best'] + print_metrics)"
   ]
  },
  {
   "cell_type": "code",
   "execution_count": 3,
   "id": "external-directive",
   "metadata": {},
   "outputs": [
    {
     "name": "stdout",
     "output_type": "stream",
     "text": [
      "# Got exp_id= 3 for exp_name= PYB-6J-3S-1A\n",
      "# Got  1  parent_runs\n",
      "# Got  35  child_runs\n"
     ]
    },
    {
     "data": {
      "text/html": [
       "<div>\n",
       "<style scoped>\n",
       "    .dataframe tbody tr th:only-of-type {\n",
       "        vertical-align: middle;\n",
       "    }\n",
       "\n",
       "    .dataframe tbody tr th {\n",
       "        vertical-align: top;\n",
       "    }\n",
       "\n",
       "    .dataframe thead th {\n",
       "        text-align: right;\n",
       "    }\n",
       "</style>\n",
       "<table border=\"1\" class=\"dataframe\">\n",
       "  <thead>\n",
       "    <tr style=\"text-align: right;\">\n",
       "      <th></th>\n",
       "      <th>whats_best</th>\n",
       "      <th>model_version</th>\n",
       "      <th>alpha_tmu</th>\n",
       "      <th>alpha_tsigma</th>\n",
       "      <th>alpha_tdf</th>\n",
       "      <th>eyelevel_tmu</th>\n",
       "      <th>eyelevel_tsigma</th>\n",
       "      <th>eyelevel_tdf</th>\n",
       "      <th>reward_total</th>\n",
       "    </tr>\n",
       "  </thead>\n",
       "  <tbody>\n",
       "    <tr>\n",
       "      <th>0</th>\n",
       "      <td>|alpha_tmu|</td>\n",
       "      <td>47.0</td>\n",
       "      <td>0.041474</td>\n",
       "      <td>0.002055</td>\n",
       "      <td>0.339474</td>\n",
       "      <td>0.012201</td>\n",
       "      <td>0.006984</td>\n",
       "      <td>0.540385</td>\n",
       "      <td>103.0</td>\n",
       "    </tr>\n",
       "    <tr>\n",
       "      <th>1</th>\n",
       "      <td>|eyelevel_tmu|</td>\n",
       "      <td>48.0</td>\n",
       "      <td>0.210225</td>\n",
       "      <td>0.001410</td>\n",
       "      <td>0.393162</td>\n",
       "      <td>0.003601</td>\n",
       "      <td>0.002134</td>\n",
       "      <td>0.393422</td>\n",
       "      <td>0.0</td>\n",
       "    </tr>\n",
       "    <tr>\n",
       "      <th>2</th>\n",
       "      <td>-reward_total</td>\n",
       "      <td>54.0</td>\n",
       "      <td>0.074732</td>\n",
       "      <td>0.005339</td>\n",
       "      <td>0.506011</td>\n",
       "      <td>0.043274</td>\n",
       "      <td>0.007814</td>\n",
       "      <td>0.654638</td>\n",
       "      <td>122.0</td>\n",
       "    </tr>\n",
       "  </tbody>\n",
       "</table>\n",
       "</div>"
      ],
      "text/plain": [
       "       whats_best  model_version  alpha_tmu  alpha_tsigma  alpha_tdf  \\\n",
       "0     |alpha_tmu|           47.0   0.041474      0.002055   0.339474   \n",
       "1  |eyelevel_tmu|           48.0   0.210225      0.001410   0.393162   \n",
       "2   -reward_total           54.0   0.074732      0.005339   0.506011   \n",
       "\n",
       "   eyelevel_tmu  eyelevel_tsigma  eyelevel_tdf  reward_total  \n",
       "0      0.012201         0.006984      0.540385         103.0  \n",
       "1      0.003601         0.002134      0.393422           0.0  \n",
       "2      0.043274         0.007814      0.654638         122.0  "
      ]
     },
     "execution_count": 3,
     "metadata": {},
     "output_type": "execute_result"
    }
   ],
   "source": [
    "leaders(6, \"PYB-6J-3S-1A\", \"first steps\")"
   ]
  },
  {
   "cell_type": "code",
   "execution_count": null,
   "id": "charged-steam",
   "metadata": {},
   "outputs": [],
   "source": [
    "#leaders(3, \"Train 3J for 3M steps\", \"training\")"
   ]
  },
  {
   "cell_type": "code",
   "execution_count": null,
   "id": "stuffed-county",
   "metadata": {},
   "outputs": [],
   "source": []
  }
 ],
 "metadata": {
  "kernelspec": {
   "display_name": "Python 3",
   "language": "python",
   "name": "python3"
  },
  "language_info": {
   "codemirror_mode": {
    "name": "ipython",
    "version": 3
   },
   "file_extension": ".py",
   "mimetype": "text/x-python",
   "name": "python",
   "nbconvert_exporter": "python",
   "pygments_lexer": "ipython3",
   "version": "3.6.13"
  }
 },
 "nbformat": 4,
 "nbformat_minor": 5
}
