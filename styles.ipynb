{
 "cells": [
  {
   "cell_type": "code",
   "execution_count": 1,
   "id": "frozen-instrument",
   "metadata": {},
   "outputs": [],
   "source": [
    "%load_ext autoreload\n",
    "%autoreload 2\n",
    "\n",
    "from IPython import display\n",
    "from lib.viz import showarray\n",
    "import matplotlib.pyplot as plt\n",
    "\n",
    "import pybullet as p\n",
    "import numpy as np\n",
    "import cv2\n",
    "\n",
    "from lib.pyb.pybullet_robot import World, Manipulator, FixedCamera, LinkedCamera"
   ]
  },
  {
   "cell_type": "code",
   "execution_count": 2,
   "id": "through-protest",
   "metadata": {},
   "outputs": [],
   "source": [
    "N = 1000\n",
    "NJ = 4\n",
    "PHI_AMP = np.pi/4\n",
    "\n",
    "w = World(gui=False)\n",
    "# side camera is on axis X, 2 units away, looking towards zero\n",
    "side_cam = FixedCamera(w, np.array(((3,0,0), (-1,0,0), (0,0,1))))\n",
    "\n",
    "# zero out angles of all X joints, to enforce movement on YZ plane only\n",
    "phis = np.random.uniform(low=-PHI_AMP, high=PHI_AMP, size=(N, NJ, 2))\n",
    "phis[:,:,0] = 0\n",
    "\n",
    "n_styles = len(Manipulator.STYLES)\n",
    "side_imgs = np.zeros((n_styles, phis.shape[0], side_cam.H, side_cam.W, 4))\n",
    "#eye_imgs = np.zeros((n_styles, phis.shape[0], eye_cam.H, eye_cam.W, 4))\n",
    "\n",
    "for style_idx, style_name in enumerate(Manipulator.STYLES):\n",
    "    m = Manipulator(w, NJ, NJ, style=style_name)\n",
    "    #eye_cam = LinkedCamera(w, m.body_id, m.eye_link_id)\n",
    "\n",
    "    for phi_idx in range(phis.shape[0]):\n",
    "        m.step(phis[phi_idx])\n",
    "        w.step()\n",
    "\n",
    "        side_imgs[style_idx][phi_idx] = side_cam.getRGBAImage()\n",
    "        #eye_imgs[i] = eye_cam.getRGBAImage()\n",
    "\n",
    "    #eye_cam.close()\n",
    "    m.close()\n",
    "\n",
    "side_cam.close()\n",
    "w.close()"
   ]
  },
  {
   "cell_type": "code",
   "execution_count": 2,
   "id": "designed-cooler",
   "metadata": {},
   "outputs": [],
   "source": [
    "styles_fname = 'styles.npz'"
   ]
  },
  {
   "cell_type": "code",
   "execution_count": 3,
   "id": "tired-messaging",
   "metadata": {},
   "outputs": [],
   "source": [
    "np.savez_compressed(styles_fname, phis=phis, side_imgs=side_imgs)"
   ]
  },
  {
   "cell_type": "code",
   "execution_count": 3,
   "id": "increased-listing",
   "metadata": {},
   "outputs": [
    {
     "name": "stdout",
     "output_type": "stream",
     "text": [
      "(1000, 4, 2)\n",
      "(3, 1000, 224, 224, 4)\n"
     ]
    }
   ],
   "source": [
    "data = np.load(styles_fname)\n",
    "print(data['phis'].shape)\n",
    "print(data['side_imgs'].shape)"
   ]
  },
  {
   "cell_type": "code",
   "execution_count": 4,
   "id": "whole-swaziland",
   "metadata": {},
   "outputs": [
    {
     "data": {
      "text/plain": [
       "(array([403., 372., 406., 431., 417., 400., 381., 403., 367., 420.]),\n",
       " array([-7.85346567e-01, -6.28366794e-01, -4.71387021e-01, -3.14407249e-01,\n",
       "        -1.57427476e-01, -4.47703280e-04,  1.56532069e-01,  3.13511842e-01,\n",
       "         4.70491615e-01,  6.27471388e-01,  7.84451160e-01]),\n",
       " <BarContainer object of 10 artists>)"
      ]
     },
     "execution_count": 4,
     "metadata": {},
     "output_type": "execute_result"
    },
    {
     "data": {
      "image/png": "[encoded data removed]",
      "text/plain": [
       "<Figure size 432x288 with 1 Axes>"
      ]
     },
     "metadata": {
      "needs_background": "light"
     },
     "output_type": "display_data"
    }
   ],
   "source": [
    "plt.hist(data['phis'][:,:,1].flatten())"
   ]
  },
  {
   "cell_type": "code",
   "execution_count": 6,
   "id": "subjective-transsexual",
   "metadata": {},
   "outputs": [],
   "source": [
    "def show_side_imgs(data, N):\n",
    "    imgs = data['side_imgs']\n",
    "    \n",
    "    rows = None\n",
    "    for i in range(N):\n",
    "        row = None\n",
    "        for style_idx, _ in enumerate(Manipulator.STYLES):\n",
    "            img = imgs[style_idx][i]\n",
    "            if row is None:\n",
    "                row = img\n",
    "            else:\n",
    "                row = np.hstack((row, img))\n",
    "        if rows is None:\n",
    "            rows = row\n",
    "        else:\n",
    "            rows = np.vstack((rows, row))\n",
    "\n",
    "    showarray(rows)"
   ]
  },
  {
   "cell_type": "code",
   "execution_count": 7,
   "id": "extraordinary-services",
   "metadata": {},
   "outputs": [
    {
     "data": {
      "image/png": "[encoded data removed]",
      "text/plain": [
       "<IPython.core.display.Image object>"
      ]
     },
     "metadata": {},
     "output_type": "display_data"
    }
   ],
   "source": [
    "show_side_imgs(data, 3)"
   ]
  },
  {
   "cell_type": "code",
   "execution_count": null,
   "id": "infinite-forth",
   "metadata": {},
   "outputs": [],
   "source": []
  }
 ],
 "metadata": {
  "kernelspec": {
   "display_name": "Python 3",
   "language": "python",
   "name": "python3"
  },
  "language_info": {
   "codemirror_mode": {
    "name": "ipython",
    "version": 3
   },
   "file_extension": ".py",
   "mimetype": "text/x-python",
   "name": "python",
   "nbconvert_exporter": "python",
   "pygments_lexer": "ipython3",
   "version": "3.6.13"
  }
 },
 "nbformat": 4,
 "nbformat_minor": 5
}
