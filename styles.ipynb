{
 "cells": [
  {
   "cell_type": "code",
   "execution_count": null,
   "id": "everyday-czech",
   "metadata": {},
   "outputs": [],
   "source": [
    "%load_ext autoreload\n",
    "%autoreload 2\n",
    "\n",
    "from IPython import display\n",
    "from lib.viz import showarray\n",
    "import matplotlib.pyplot as plt\n",
    "\n",
    "import pybullet as p\n",
    "import numpy as np\n",
    "import cv2\n",
    "\n",
    "from lib.pyb.pybullet_robot import World, Manipulator, FixedCamera, LinkedCamera"
   ]
  },
  {
   "cell_type": "code",
   "execution_count": null,
   "id": "derived-taxation",
   "metadata": {},
   "outputs": [],
   "source": [
    "N = 10\n",
    "NJ = 4 # number of joint pairs (segments)\n",
    "NP = 4 # number of plates per segment\n",
    "NA = 1 # number of axes per segment\n",
    "PHI_AMP = np.pi/4\n",
    "\n",
    "w = World(gui=False)\n",
    "# side camera is on axis X, 2 units away, looking towards zero\n",
    "side_cam = FixedCamera(w, np.array(((3,0,0.5), (-1,0,0), (0,0,1))))\n",
    "\n",
    "# zero out angles of all X joints, to enforce movement on YZ plane only\n",
    "phis = np.random.uniform(low=-PHI_AMP, high=PHI_AMP, size=(N, NJ, 2))\n",
    "phis[:,:,0] = 0\n",
    "\n",
    "n_styles = len(Manipulator.STYLES)\n",
    "side_imgs = np.zeros((n_styles, phis.shape[0], side_cam.H, side_cam.W, 4))\n",
    "#eye_imgs = np.zeros((n_styles, phis.shape[0], eye_cam.H, eye_cam.W, 4))\n",
    "\n",
    "for style_idx, style_name in enumerate(Manipulator.STYLES):\n",
    "    m = Manipulator(w, NJ, NP, NA, style=style_name)\n",
    "    #eye_cam = LinkedCamera(w, m.body_id, m.eye_link_id)\n",
    "\n",
    "    for phi_idx in range(phis.shape[0]):\n",
    "        m.step(phis[phi_idx])\n",
    "        w.step()\n",
    "\n",
    "        side_imgs[style_idx][phi_idx] = side_cam.getRGBAImage()\n",
    "        #eye_imgs[i] = eye_cam.getRGBAImage()\n",
    "\n",
    "    #eye_cam.close()\n",
    "    m.close()\n",
    "\n",
    "side_cam.close()\n",
    "w.close()"
   ]
  },
  {
   "cell_type": "code",
   "execution_count": null,
   "id": "ancient-thermal",
   "metadata": {},
   "outputs": [],
   "source": [
    "styles_fname = 'styles.npz'"
   ]
  },
  {
   "cell_type": "code",
   "execution_count": null,
   "id": "popular-whale",
   "metadata": {},
   "outputs": [],
   "source": [
    "np.savez_compressed(styles_fname, phis=phis, side_imgs=side_imgs)"
   ]
  },
  {
   "cell_type": "code",
   "execution_count": null,
   "id": "entire-count",
   "metadata": {},
   "outputs": [],
   "source": [
    "data = np.load(styles_fname)\n",
    "print(data['phis'].shape)\n",
    "print(data['side_imgs'].shape)"
   ]
  },
  {
   "cell_type": "code",
   "execution_count": null,
   "id": "viral-appraisal",
   "metadata": {},
   "outputs": [],
   "source": [
    "plt.hist(data['phis'][:,:,1].flatten())"
   ]
  },
  {
   "cell_type": "code",
   "execution_count": null,
   "id": "broadband-virus",
   "metadata": {},
   "outputs": [],
   "source": [
    "def show_side_imgs(data, N):\n",
    "    imgs = data['side_imgs']\n",
    "    \n",
    "    rows = None\n",
    "    for i in range(N):\n",
    "        row = None\n",
    "        for style_idx, _ in enumerate(Manipulator.STYLES):\n",
    "            img = imgs[style_idx][i]\n",
    "            if row is None:\n",
    "                row = img\n",
    "            else:\n",
    "                row = np.hstack((row, img))\n",
    "        if rows is None:\n",
    "            rows = row\n",
    "        else:\n",
    "            rows = np.vstack((rows, row))\n",
    "\n",
    "    showarray(rows)"
   ]
  },
  {
   "cell_type": "code",
   "execution_count": null,
   "id": "subtle-dinner",
   "metadata": {},
   "outputs": [],
   "source": [
    "show_side_imgs(data, 10)"
   ]
  },
  {
   "cell_type": "code",
   "execution_count": null,
   "id": "refined-advantage",
   "metadata": {},
   "outputs": [],
   "source": [
    "w = World(gui=True)"
   ]
  },
  {
   "cell_type": "code",
   "execution_count": null,
   "id": "engaged-discussion",
   "metadata": {},
   "outputs": [],
   "source": [
    "m = Manipulator(w, 4, 4, 4, style=Manipulator.STYLES[0])"
   ]
  },
  {
   "cell_type": "code",
   "execution_count": null,
   "id": "forty-outdoors",
   "metadata": {},
   "outputs": [],
   "source": [
    "phis = np.random.uniform(low=-PHI_AMP, high=PHI_AMP, size=(4, 2))\n",
    "phis[:,:] = 0\n",
    "phis[:,:] = -np.pi/4\n",
    "m.step(phis)"
   ]
  },
  {
   "cell_type": "code",
   "execution_count": null,
   "id": "shared-ghana",
   "metadata": {},
   "outputs": [],
   "source": [
    "m._print_joints_pos()"
   ]
  },
  {
   "cell_type": "code",
   "execution_count": null,
   "id": "tough-peace",
   "metadata": {},
   "outputs": [],
   "source": [
    "m.close()"
   ]
  },
  {
   "cell_type": "code",
   "execution_count": null,
   "id": "veterinary-residence",
   "metadata": {},
   "outputs": [],
   "source": [
    "w.close()"
   ]
  },
  {
   "cell_type": "code",
   "execution_count": null,
   "id": "german-guide",
   "metadata": {},
   "outputs": [],
   "source": []
  }
 ],
 "metadata": {
  "kernelspec": {
   "display_name": "Python 3",
   "language": "python",
   "name": "python3"
  },
  "language_info": {
   "codemirror_mode": {
    "name": "ipython",
    "version": 3
   },
   "file_extension": ".py",
   "mimetype": "text/x-python",
   "name": "python",
   "nbconvert_exporter": "python",
   "pygments_lexer": "ipython3",
   "version": "3.6.13"
  }
 },
 "nbformat": 4,
 "nbformat_minor": 5
}
