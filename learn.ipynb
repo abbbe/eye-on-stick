{
 "cells": [
  {
   "cell_type": "code",
   "execution_count": 1,
   "id": "extra-pickup",
   "metadata": {},
   "outputs": [],
   "source": [
    "if 'google.colab' in str(get_ipython()):\n",
    "    !pip install -r https://raw.githubusercontent.com/abbbe/eye-on-stick/main/requirements.txt\n",
    "    !git clone https://github.com/abbbe/eye-on-stick\n",
    "    %cd eye-on-stick"
   ]
  },
  {
   "cell_type": "code",
   "execution_count": 2,
   "id": "ultimate-asian",
   "metadata": {},
   "outputs": [
    {
     "name": "stdout",
     "output_type": "stream",
     "text": [
      "WARNING:tensorflow:\n",
      "The TensorFlow contrib module will not be included in TensorFlow 2.0.\n",
      "For more information, please see:\n",
      "  * https://github.com/tensorflow/community/blob/master/rfcs/20180907-contrib-sunset.md\n",
      "  * https://github.com/tensorflow/addons\n",
      "  * https://github.com/tensorflow/io (for I/O related ops)\n",
      "If you depend on functionality not listed there, please file an issue.\n",
      "\n"
     ]
    }
   ],
   "source": [
    "%load_ext autoreload\n",
    "%autoreload 2\n",
    "\n",
    "import numpy as np\n",
    "\n",
    "import os, urllib, time\n",
    "os.environ[\"MLFLOW_TRACKING_URI\"] = \"sqlite:///mlruns/db.sqlite\"\n",
    "import mlflow, git\n",
    "mlflow_client = mlflow.tracking.MlflowClient()\n",
    "\n",
    "from stable_baselines.common.cmd_util import make_vec_env\n",
    "from stable_baselines.common.vec_env import VecNormalize\n",
    "from stable_baselines import PPO2, SAC\n",
    "\n",
    "import matplotlib.pyplot as plt\n",
    "%matplotlib inline\n",
    "from lib.viz import showarray\n",
    "from IPython import display\n",
    "\n",
    "from lib import eos\n",
    "from lib.eos2d import EyeOnStickEnv2D\n",
    "from lib.pyb.eos3d import EyeOnStickEnv3D"
   ]
  },
  {
   "cell_type": "code",
   "execution_count": 3,
   "id": "shared-segment",
   "metadata": {},
   "outputs": [],
   "source": [
    "#ENV = EyeOnStickEnv2D\n",
    "ENV = EyeOnStickEnv3D\n",
    "N_ENVS = 1"
   ]
  },
  {
   "cell_type": "code",
   "execution_count": 4,
   "id": "expected-passenger",
   "metadata": {},
   "outputs": [],
   "source": [
    "with git.Repo() as repo:\n",
    "    git_info = f'{repo.active_branch.name}/{repo.git.rev_parse(repo.head.object.hexsha, short=4)}'\n",
    "    if repo.is_dirty():\n",
    "        git_info = f'*{git_info}'"
   ]
  },
  {
   "cell_type": "code",
   "execution_count": 5,
   "id": "dependent-setting",
   "metadata": {},
   "outputs": [],
   "source": [
    "import json\n",
    "from lib.run import run_env_nsteps\n",
    "\n",
    "def log_metrics(metrics, step):\n",
    "    # log the content of metrics dict as mlflow metrics\n",
    "    for key, value in metrics.items():\n",
    "        mlflow.log_metric(key=key, value=value, step=step)\n",
    "\n",
    "def save_and_register_model(model, params, saved_models_dir, era, model_name, mlflow_run):    \n",
    "    # save the trained models, each era separately\n",
    "    model_fname = f'{saved_models_dir}/{era}'\n",
    "    model.save(model_fname)\n",
    "\n",
    "    params_fname = f'{saved_models_dir}/{era}.json'\n",
    "\n",
    "    with open(params_fname, 'w') as fp:\n",
    "        json.dump(params, fp)\n",
    "    \n",
    "    # register the trained model\n",
    "    return mlflow_client.create_model_version(name=model_name, source=model_fname, run_id=mlflow_run.info.run_id)"
   ]
  },
  {
   "cell_type": "code",
   "execution_count": 6,
   "id": "democratic-anderson",
   "metadata": {},
   "outputs": [],
   "source": [
    "def learn_and_run(\n",
    "    exp_id, run_name, model_name,\n",
    "    n_joints,\n",
    "    n_eras, n_learn_episodes, params,\n",
    "    gym_policy_class=SAC, gym_model_name='MlpPolicy',\n",
    "    displayfunc=None, start_version=None\n",
    "):    \n",
    "    \"\"\"\n",
    "    1. Instanciates environment with n_joints.\n",
    "    2. Train the model for N_LEARN_EPOCHS epochs.\n",
    "    3. Save the model as mlflow artefact, named by 'name'.\n",
    "    2. Step through the environment for N_ERAS x N_STEPS steps, collecting metrics and rendering it (if 'display' is set).\n",
    "    3. Log metrics into mlflow runs (parent run gets '{n_joints}J {name}' name).\n",
    "    7. Returns file name to load the model from.\n",
    "    \"\"\"\n",
    "    env = make_vec_env(lambda: ENV(n_joints, params), n_envs=N_ENVS)\n",
    "    #env = VecNormalize(env)\n",
    "\n",
    "    n_steps = params.get('MAX_NSTEPS')\n",
    "\n",
    "    # create new mlflow run which will become a parent of per-era runs\n",
    "    with mlflow.start_run(run_name=run_name, experiment_id=exp_id) as parent_run:\n",
    "        # log gym  params\n",
    "        mlflow.log_param(\"gym_policy_class\", gym_policy_class.__name__)\n",
    "        mlflow.log_param(\"gym_model_name\", gym_model_name)\n",
    "        mlflow.log_param(\"start_version\", start_version)\n",
    "        for key, value in params.items():\n",
    "            mlflow.log_param(key, value)\n",
    "\n",
    "        # arrange tensorboard logs\n",
    "        mlflow_artifacts_dir = urllib.request.url2pathname(urllib.parse.urlparse(mlflow.get_artifact_uri()).path)\n",
    "        tensorboard_logdir = os.path.join(mlflow_artifacts_dir, \"tensorboard_log\")\n",
    "        os.makedirs(tensorboard_logdir, exist_ok=False)\n",
    "\n",
    "        # create gym model and directory to save it\n",
    "        if start_version:\n",
    "            registered_model = mlflow_client.get_model_version(model_name, start_version)\n",
    "            model = gym_policy_class.load(registered_model.source)\n",
    "            model.set_env(env)\n",
    "        else:\n",
    "            model = gym_policy_class(gym_model_name, env, verbose=0, tensorboard_log=tensorboard_logdir)\n",
    "            \n",
    "        saved_models_dir = os.path.join(mlflow_artifacts_dir, \"saved_models\")\n",
    "        os.makedirs(saved_models_dir, exist_ok=False)\n",
    "\n",
    "        ## run eras loop\n",
    "        metrics = None\n",
    "        for era in range(n_eras):\n",
    "            child_run_name = f'era={era}'\n",
    "            \n",
    "            with mlflow.start_run(run_name=child_run_name, experiment_id=exp_id, nested=True) as child_run:            \n",
    "                model.learn(n_learn_episodes * n_steps)\n",
    "                registered_model = save_and_register_model(model, params, saved_models_dir, era, model_name, child_run)\n",
    "                mlflow.log_metric(\"model_version\", registered_model.version)\n",
    "\n",
    "                env.env_method('set_render_info', {'model_name': registered_model.name, 'model_version': registered_model.version, 'start_version': start_version})\n",
    "                metrics, _data = run_env_nsteps(env, model, n_steps, displayfunc=displayfunc)\n",
    "                log_metrics(metrics, step=era)\n",
    "                    \n",
    "        # log to the parent run\n",
    "        if metrics:\n",
    "            log_metrics(metrics, step=None)\n",
    "            \n",
    "    env.close()"
   ]
  },
  {
   "cell_type": "code",
   "execution_count": 7,
   "id": "mathematical-gregory",
   "metadata": {},
   "outputs": [],
   "source": [
    "# SAC(policy, env, gamma=0.99, learning_rate=0.0003, buffer_size=50000, learning_starts=100, train_freq=1,\n",
    "# batch_size=64, tau=0.005, ent_coef='auto', target_update_interval=1, gradient_steps=1, target_entropy='auto', action_noise=None,\n",
    "# random_exploration=0.0, verbose=0, tensorboard_log=None, _init_setup_model=True, policy_kwargs=None, full_tensorboard_log=False, seed=None, n_cpu_tf_sess=None)"
   ]
  },
  {
   "cell_type": "code",
   "execution_count": 8,
   "id": "global-dublin",
   "metadata": {},
   "outputs": [],
   "source": [
    "#raise None"
   ]
  },
  {
   "cell_type": "markdown",
   "id": "rural-resistance",
   "metadata": {},
   "source": [
    "### Train to find the target and aim coarsely"
   ]
  },
  {
   "cell_type": "code",
   "execution_count": null,
   "id": "integral-appearance",
   "metadata": {},
   "outputs": [
    {
     "name": "stderr",
     "output_type": "stream",
     "text": [
      "2021/03/26 02:31:40 INFO mlflow.tracking._model_registry.client: Waiting up to 300 seconds for model version to finish creation.                     Model name: eos3d.6j-coarse-aim, version 60\n",
      "2021/03/26 02:43:00 INFO mlflow.tracking._model_registry.client: Waiting up to 300 seconds for model version to finish creation.                     Model name: eos3d.6j-coarse-aim, version 61\n",
      "2021/03/26 02:55:35 INFO mlflow.tracking._model_registry.client: Waiting up to 300 seconds for model version to finish creation.                     Model name: eos3d.6j-coarse-aim, version 62\n",
      "2021/03/26 03:08:00 INFO mlflow.tracking._model_registry.client: Waiting up to 300 seconds for model version to finish creation.                     Model name: eos3d.6j-coarse-aim, version 63\n",
      "2021/03/26 03:20:42 INFO mlflow.tracking._model_registry.client: Waiting up to 300 seconds for model version to finish creation.                     Model name: eos3d.6j-coarse-aim, version 64\n",
      "2021/03/26 03:33:10 INFO mlflow.tracking._model_registry.client: Waiting up to 300 seconds for model version to finish creation.                     Model name: eos3d.6j-coarse-aim, version 65\n",
      "2021/03/26 03:45:23 INFO mlflow.tracking._model_registry.client: Waiting up to 300 seconds for model version to finish creation.                     Model name: eos3d.6j-coarse-aim, version 66\n",
      "2021/03/26 03:57:53 INFO mlflow.tracking._model_registry.client: Waiting up to 300 seconds for model version to finish creation.                     Model name: eos3d.6j-coarse-aim, version 67\n",
      "2021/03/26 04:10:24 INFO mlflow.tracking._model_registry.client: Waiting up to 300 seconds for model version to finish creation.                     Model name: eos3d.6j-coarse-aim, version 68\n",
      "2021/03/26 04:22:44 INFO mlflow.tracking._model_registry.client: Waiting up to 300 seconds for model version to finish creation.                     Model name: eos3d.6j-coarse-aim, version 69\n",
      "2021/03/26 04:35:13 INFO mlflow.tracking._model_registry.client: Waiting up to 300 seconds for model version to finish creation.                     Model name: eos3d.6j-coarse-aim, version 70\n",
      "2021/03/26 04:47:57 INFO mlflow.tracking._model_registry.client: Waiting up to 300 seconds for model version to finish creation.                     Model name: eos3d.6j-coarse-aim, version 71\n",
      "2021/03/26 05:00:44 INFO mlflow.tracking._model_registry.client: Waiting up to 300 seconds for model version to finish creation.                     Model name: eos3d.6j-coarse-aim, version 72\n",
      "2021/03/26 05:13:03 INFO mlflow.tracking._model_registry.client: Waiting up to 300 seconds for model version to finish creation.                     Model name: eos3d.6j-coarse-aim, version 73\n",
      "2021/03/26 05:25:27 INFO mlflow.tracking._model_registry.client: Waiting up to 300 seconds for model version to finish creation.                     Model name: eos3d.6j-coarse-aim, version 74\n",
      "2021/03/26 05:38:00 INFO mlflow.tracking._model_registry.client: Waiting up to 300 seconds for model version to finish creation.                     Model name: eos3d.6j-coarse-aim, version 75\n",
      "2021/03/26 05:50:34 INFO mlflow.tracking._model_registry.client: Waiting up to 300 seconds for model version to finish creation.                     Model name: eos3d.6j-coarse-aim, version 76\n",
      "2021/03/26 06:02:59 INFO mlflow.tracking._model_registry.client: Waiting up to 300 seconds for model version to finish creation.                     Model name: eos3d.6j-coarse-aim, version 77\n",
      "2021/03/26 06:15:17 INFO mlflow.tracking._model_registry.client: Waiting up to 300 seconds for model version to finish creation.                     Model name: eos3d.6j-coarse-aim, version 78\n",
      "2021/03/26 06:27:35 INFO mlflow.tracking._model_registry.client: Waiting up to 300 seconds for model version to finish creation.                     Model name: eos3d.6j-coarse-aim, version 79\n",
      "2021/03/26 06:39:27 INFO mlflow.tracking._model_registry.client: Waiting up to 300 seconds for model version to finish creation.                     Model name: eos3d.6j-coarse-aim, version 80\n",
      "2021/03/26 06:51:39 INFO mlflow.tracking._model_registry.client: Waiting up to 300 seconds for model version to finish creation.                     Model name: eos3d.6j-coarse-aim, version 81\n",
      "2021/03/26 07:04:03 INFO mlflow.tracking._model_registry.client: Waiting up to 300 seconds for model version to finish creation.                     Model name: eos3d.6j-coarse-aim, version 82\n",
      "2021/03/26 07:16:15 INFO mlflow.tracking._model_registry.client: Waiting up to 300 seconds for model version to finish creation.                     Model name: eos3d.6j-coarse-aim, version 83\n",
      "2021/03/26 07:28:30 INFO mlflow.tracking._model_registry.client: Waiting up to 300 seconds for model version to finish creation.                     Model name: eos3d.6j-coarse-aim, version 84\n",
      "2021/03/26 07:40:51 INFO mlflow.tracking._model_registry.client: Waiting up to 300 seconds for model version to finish creation.                     Model name: eos3d.6j-coarse-aim, version 85\n",
      "2021/03/26 07:53:21 INFO mlflow.tracking._model_registry.client: Waiting up to 300 seconds for model version to finish creation.                     Model name: eos3d.6j-coarse-aim, version 86\n",
      "2021/03/26 08:05:58 INFO mlflow.tracking._model_registry.client: Waiting up to 300 seconds for model version to finish creation.                     Model name: eos3d.6j-coarse-aim, version 87\n",
      "2021/03/26 08:18:30 INFO mlflow.tracking._model_registry.client: Waiting up to 300 seconds for model version to finish creation.                     Model name: eos3d.6j-coarse-aim, version 88\n",
      "2021/03/26 08:31:12 INFO mlflow.tracking._model_registry.client: Waiting up to 300 seconds for model version to finish creation.                     Model name: eos3d.6j-coarse-aim, version 89\n",
      "2021/03/26 08:43:51 INFO mlflow.tracking._model_registry.client: Waiting up to 300 seconds for model version to finish creation.                     Model name: eos3d.6j-coarse-aim, version 90\n",
      "2021/03/26 08:56:22 INFO mlflow.tracking._model_registry.client: Waiting up to 300 seconds for model version to finish creation.                     Model name: eos3d.6j-coarse-aim, version 91\n",
      "2021/03/26 09:08:45 INFO mlflow.tracking._model_registry.client: Waiting up to 300 seconds for model version to finish creation.                     Model name: eos3d.6j-coarse-aim, version 92\n",
      "2021/03/26 09:21:09 INFO mlflow.tracking._model_registry.client: Waiting up to 300 seconds for model version to finish creation.                     Model name: eos3d.6j-coarse-aim, version 93\n",
      "2021/03/26 09:33:37 INFO mlflow.tracking._model_registry.client: Waiting up to 300 seconds for model version to finish creation.                     Model name: eos3d.6j-coarse-aim, version 94\n",
      "2021/03/26 09:48:00 INFO mlflow.tracking._model_registry.client: Waiting up to 300 seconds for model version to finish creation.                     Model name: eos3d.6j-coarse-aim, version 95\n",
      "2021/03/26 10:02:21 INFO mlflow.tracking._model_registry.client: Waiting up to 300 seconds for model version to finish creation.                     Model name: eos3d.6j-coarse-aim, version 96\n",
      "2021/03/26 10:16:24 INFO mlflow.tracking._model_registry.client: Waiting up to 300 seconds for model version to finish creation.                     Model name: eos3d.6j-coarse-aim, version 97\n",
      "2021/03/26 10:30:47 INFO mlflow.tracking._model_registry.client: Waiting up to 300 seconds for model version to finish creation.                     Model name: eos3d.6j-coarse-aim, version 98\n",
      "2021/03/26 10:45:30 INFO mlflow.tracking._model_registry.client: Waiting up to 300 seconds for model version to finish creation.                     Model name: eos3d.6j-coarse-aim, version 99\n",
      "2021/03/26 10:59:40 INFO mlflow.tracking._model_registry.client: Waiting up to 300 seconds for model version to finish creation.                     Model name: eos3d.6j-coarse-aim, version 100\n",
      "2021/03/26 11:13:55 INFO mlflow.tracking._model_registry.client: Waiting up to 300 seconds for model version to finish creation.                     Model name: eos3d.6j-coarse-aim, version 101\n",
      "2021/03/26 11:27:59 INFO mlflow.tracking._model_registry.client: Waiting up to 300 seconds for model version to finish creation.                     Model name: eos3d.6j-coarse-aim, version 102\n",
      "2021/03/26 11:41:32 INFO mlflow.tracking._model_registry.client: Waiting up to 300 seconds for model version to finish creation.                     Model name: eos3d.6j-coarse-aim, version 103\n",
      "2021/03/26 11:55:44 INFO mlflow.tracking._model_registry.client: Waiting up to 300 seconds for model version to finish creation.                     Model name: eos3d.6j-coarse-aim, version 104\n",
      "2021/03/26 12:10:05 INFO mlflow.tracking._model_registry.client: Waiting up to 300 seconds for model version to finish creation.                     Model name: eos3d.6j-coarse-aim, version 105\n",
      "2021/03/26 12:24:08 INFO mlflow.tracking._model_registry.client: Waiting up to 300 seconds for model version to finish creation.                     Model name: eos3d.6j-coarse-aim, version 106\n",
      "2021/03/26 12:38:26 INFO mlflow.tracking._model_registry.client: Waiting up to 300 seconds for model version to finish creation.                     Model name: eos3d.6j-coarse-aim, version 107\n",
      "2021/03/26 12:52:35 INFO mlflow.tracking._model_registry.client: Waiting up to 300 seconds for model version to finish creation.                     Model name: eos3d.6j-coarse-aim, version 108\n",
      "2021/03/26 13:06:22 INFO mlflow.tracking._model_registry.client: Waiting up to 300 seconds for model version to finish creation.                     Model name: eos3d.6j-coarse-aim, version 109\n",
      "2021/03/26 13:20:27 INFO mlflow.tracking._model_registry.client: Waiting up to 300 seconds for model version to finish creation.                     Model name: eos3d.6j-coarse-aim, version 110\n",
      "2021/03/26 13:34:44 INFO mlflow.tracking._model_registry.client: Waiting up to 300 seconds for model version to finish creation.                     Model name: eos3d.6j-coarse-aim, version 111\n",
      "2021/03/26 13:48:40 INFO mlflow.tracking._model_registry.client: Waiting up to 300 seconds for model version to finish creation.                     Model name: eos3d.6j-coarse-aim, version 112\n",
      "2021/03/26 14:02:59 INFO mlflow.tracking._model_registry.client: Waiting up to 300 seconds for model version to finish creation.                     Model name: eos3d.6j-coarse-aim, version 113\n",
      "2021/03/26 14:17:14 INFO mlflow.tracking._model_registry.client: Waiting up to 300 seconds for model version to finish creation.                     Model name: eos3d.6j-coarse-aim, version 114\n",
      "2021/03/26 14:31:21 INFO mlflow.tracking._model_registry.client: Waiting up to 300 seconds for model version to finish creation.                     Model name: eos3d.6j-coarse-aim, version 115\n",
      "2021/03/26 14:45:36 INFO mlflow.tracking._model_registry.client: Waiting up to 300 seconds for model version to finish creation.                     Model name: eos3d.6j-coarse-aim, version 116\n",
      "2021/03/26 14:59:28 INFO mlflow.tracking._model_registry.client: Waiting up to 300 seconds for model version to finish creation.                     Model name: eos3d.6j-coarse-aim, version 117\n",
      "2021/03/26 15:14:02 INFO mlflow.tracking._model_registry.client: Waiting up to 300 seconds for model version to finish creation.                     Model name: eos3d.6j-coarse-aim, version 118\n",
      "2021/03/26 15:28:36 INFO mlflow.tracking._model_registry.client: Waiting up to 300 seconds for model version to finish creation.                     Model name: eos3d.6j-coarse-aim, version 119\n",
      "2021/03/26 15:43:02 INFO mlflow.tracking._model_registry.client: Waiting up to 300 seconds for model version to finish creation.                     Model name: eos3d.6j-coarse-aim, version 120\n",
      "2021/03/26 15:57:11 INFO mlflow.tracking._model_registry.client: Waiting up to 300 seconds for model version to finish creation.                     Model name: eos3d.6j-coarse-aim, version 121\n",
      "2021/03/26 16:11:16 INFO mlflow.tracking._model_registry.client: Waiting up to 300 seconds for model version to finish creation.                     Model name: eos3d.6j-coarse-aim, version 122\n",
      "2021/03/26 16:25:19 INFO mlflow.tracking._model_registry.client: Waiting up to 300 seconds for model version to finish creation.                     Model name: eos3d.6j-coarse-aim, version 123\n",
      "2021/03/26 16:39:40 INFO mlflow.tracking._model_registry.client: Waiting up to 300 seconds for model version to finish creation.                     Model name: eos3d.6j-coarse-aim, version 124\n",
      "2021/03/26 16:54:01 INFO mlflow.tracking._model_registry.client: Waiting up to 300 seconds for model version to finish creation.                     Model name: eos3d.6j-coarse-aim, version 125\n",
      "2021/03/26 17:07:55 INFO mlflow.tracking._model_registry.client: Waiting up to 300 seconds for model version to finish creation.                     Model name: eos3d.6j-coarse-aim, version 126\n",
      "2021/03/26 17:21:59 INFO mlflow.tracking._model_registry.client: Waiting up to 300 seconds for model version to finish creation.                     Model name: eos3d.6j-coarse-aim, version 127\n"
     ]
    }
   ],
   "source": [
    "exp_id = mlflow.get_experiment_by_name(\"PYB-6J-3S-1A\")\n",
    "\n",
    "model_name='eos3d.6j-coarse-aim'\n",
    "run_name= f'{model_name} 008 start-rand target-xz a-25 e-5 alpha_cm alpha-scalar 4p'\n",
    "\n",
    "learn_and_run(\n",
    "    exp_id=exp_id.experiment_id,\n",
    "    run_name=run_name,\n",
    "    model_name=model_name,\n",
    "    n_joints=6,\n",
    "    n_eras=150, n_learn_episodes=500,\n",
    "    params={'MAX_NSTEPS': 150, 'ALPHA_MAXDIFF_GOAL': 20, 'EYE_LEVEL_MAXDIFF_GOAL': 5},\n",
    ")"
   ]
  },
  {
   "cell_type": "code",
   "execution_count": null,
   "id": "traditional-fetish",
   "metadata": {},
   "outputs": [],
   "source": [
    "raise None"
   ]
  },
  {
   "cell_type": "markdown",
   "id": "hollywood-option",
   "metadata": {},
   "source": [
    "### First decently working 3J policy"
   ]
  },
  {
   "cell_type": "code",
   "execution_count": null,
   "id": "adaptive-manor",
   "metadata": {},
   "outputs": [],
   "source": [
    "NJ = 3"
   ]
  },
  {
   "cell_type": "code",
   "execution_count": null,
   "id": "advanced-capture",
   "metadata": {},
   "outputs": [],
   "source": [
    "# we run N_ERAS eras (=mlflow runs) in total:\n",
    "#   first we let the agent learn for N_LEARN_EPISODES * MAX_NSTEPS\n",
    "#   then we run it one episode and log metrics"
   ]
  },
  {
   "cell_type": "code",
   "execution_count": null,
   "id": "central-heritage",
   "metadata": {
    "tags": []
   },
   "outputs": [],
   "source": [
    "N_ERAS = 25 # eras \n",
    "N_LEARN_EPISODES = 100\n",
    "MAX_NSTEPS = 150 # episode will end after so many steps\n",
    " \n",
    "for _ in range(10):\n",
    "    learn_and_run(\n",
    "        n_joints=NJ,\n",
    "        n_eras=N_ERAS, n_learn_episodes=N_LEARN_EPISODES,\n",
    "        params={'MAX_NSTEPS': MAX_NSTEPS, 'ALPHA_MAXDIFF_GOAL': 3, 'EYE_LEVEL_MAXDIFF_GOAL': 3},\n",
    "        name='no eye_phi obs')"
   ]
  },
  {
   "cell_type": "markdown",
   "id": "resident-signal",
   "metadata": {},
   "source": [
    "### Long run"
   ]
  },
  {
   "cell_type": "code",
   "execution_count": null,
   "id": "blank-bundle",
   "metadata": {},
   "outputs": [],
   "source": [
    "N_ERAS = 10 # eras \n",
    "N_LEARN_EPISODES = 2000\n",
    "MAX_NSTEPS = 150 # episode will end after so many steps\n",
    "\n",
    "#exp_id = mlflow.create_experiment(\"Train 3J for 3M steps\")\n",
    "exp_id = mlflow.get_experiment_by_name(\"Train 3J for 3M steps\")\n",
    "\n",
    "learn_and_run(n_joints=NJ, n_eras=N_ERAS, n_learn_episodes=N_LEARN_EPISODES,\n",
    "        params={'MAX_NSTEPS': MAX_NSTEPS, 'ALPHA_MAXDIFF_GOAL': 3, 'EYE_LEVEL_MAXDIFF_GOAL': 3},\n",
    "        name='training', exp_id=exp_id.experiment_id, displayfunc=None)"
   ]
  },
  {
   "cell_type": "code",
   "execution_count": null,
   "id": "thrown-melbourne",
   "metadata": {},
   "outputs": [],
   "source": []
  }
 ],
 "metadata": {
  "kernelspec": {
   "display_name": "Python 3",
   "language": "python",
   "name": "python3"
  },
  "language_info": {
   "codemirror_mode": {
    "name": "ipython",
    "version": 3
   },
   "file_extension": ".py",
   "mimetype": "text/x-python",
   "name": "python",
   "nbconvert_exporter": "python",
   "pygments_lexer": "ipython3",
   "version": "3.6.13"
  }
 },
 "nbformat": 4,
 "nbformat_minor": 5
}
