{
 "cells": [
  {
   "cell_type": "code",
   "execution_count": 1,
   "id": "valid-castle",
   "metadata": {},
   "outputs": [],
   "source": [
    "if 'google.colab' in str(get_ipython()):\n",
    "    !pip install -r https://raw.githubusercontent.com/abbbe/eye-on-stick/main/requirements.txt\n",
    "    !git clone https://github.com/abbbe/eye-on-stick\n",
    "    %cd eye-on-stick"
   ]
  },
  {
   "cell_type": "code",
   "execution_count": 2,
   "id": "inside-lecture",
   "metadata": {},
   "outputs": [
    {
     "name": "stdout",
     "output_type": "stream",
     "text": [
      "WARNING:tensorflow:\n",
      "The TensorFlow contrib module will not be included in TensorFlow 2.0.\n",
      "For more information, please see:\n",
      "  * https://github.com/tensorflow/community/blob/master/rfcs/20180907-contrib-sunset.md\n",
      "  * https://github.com/tensorflow/addons\n",
      "  * https://github.com/tensorflow/io (for I/O related ops)\n",
      "If you depend on functionality not listed there, please file an issue.\n",
      "\n"
     ]
    }
   ],
   "source": [
    "%load_ext autoreload\n",
    "%autoreload 2\n",
    "\n",
    "import numpy as np\n",
    "\n",
    "import os, urllib, time\n",
    "os.environ[\"MLFLOW_TRACKING_URI\"] = \"sqlite:///mlruns/db.sqlite\"\n",
    "import mlflow, git\n",
    "mlflow_client = mlflow.tracking.MlflowClient()\n",
    "\n",
    "from stable_baselines.common.cmd_util import make_vec_env\n",
    "from stable_baselines.common.vec_env import VecNormalize\n",
    "from stable_baselines import PPO2, SAC\n",
    "\n",
    "import matplotlib.pyplot as plt\n",
    "%matplotlib inline\n",
    "from lib.viz import showarray\n",
    "from IPython import display\n",
    "\n",
    "from lib import eos\n",
    "from lib.eos import EyeOnStickEnv"
   ]
  },
  {
   "cell_type": "code",
   "execution_count": null,
   "id": "foreign-unemployment",
   "metadata": {},
   "outputs": [],
   "source": []
  },
  {
   "cell_type": "code",
   "execution_count": 3,
   "id": "aerial-phase",
   "metadata": {},
   "outputs": [],
   "source": [
    "with git.Repo() as repo:\n",
    "    git_info = f'{repo.active_branch.name}/{repo.git.rev_parse(repo.head.object.hexsha, short=4)}'\n",
    "    if repo.is_dirty():\n",
    "        git_info = f'*{git_info}'"
   ]
  },
  {
   "cell_type": "code",
   "execution_count": 4,
   "id": "vital-gather",
   "metadata": {},
   "outputs": [],
   "source": [
    "import json\n",
    "from lib.run import run_env_nsteps\n",
    "\n",
    "def log_metrics(metrics, step):\n",
    "    # log the content of metrics dict as mlflow metrics\n",
    "    for key, value in metrics.items():\n",
    "        mlflow.log_metric(key=key, value=value, step=step)\n",
    "\n",
    "def save_and_register_model(model, params, saved_models_dir, era, model_name, mlflow_run):    \n",
    "    # save the trained models, each era separately\n",
    "    model_fname = f'{saved_models_dir}/{era}'\n",
    "    model.save(model_fname)\n",
    "\n",
    "    params_fname = f'{saved_models_dir}/{era}.json'\n",
    "\n",
    "    with open(params_fname, 'w') as fp:\n",
    "        json.dump(params, fp)\n",
    "    \n",
    "    # register the trained model\n",
    "    return mlflow_client.create_model_version(name=model_name, source=model_fname, run_id=mlflow_run.info.run_id)"
   ]
  },
  {
   "cell_type": "code",
   "execution_count": 5,
   "id": "accompanied-rapid",
   "metadata": {},
   "outputs": [],
   "source": [
    "def learn_and_run(n_joints, n_eras, n_learn_episodes, params, gym_policy_class=SAC, gym_model_name='MlpPolicy', name=None, displayfunc=None, start_version=None):\n",
    "    \"\"\"\n",
    "    1. Instanciates environment with n_joints.\n",
    "    2. Train the model for N_LEARN_EPOCHS epochs.\n",
    "    3. Save the model as mlflow artefact, named by 'name'.\n",
    "    2. Step through the environment for N_ERAS x N_STEPS steps, collecting metrics and rendering it (if 'display' is set).\n",
    "    3. Log metrics into mlflow runs (parent run gets '{n_joints}J {name}' name).\n",
    "    7. Returns file name to load the model from.\n",
    "    \"\"\"\n",
    "    env = make_vec_env(lambda: EyeOnStickEnv(n_joints, params), n_envs=N_ENVS)\n",
    "    #env = VecNormalize(env)\n",
    "\n",
    "    n_steps = params.get('MAX_NSTEPS')\n",
    "    run_name = f'eos.{n_joints}J'\n",
    "    model_name = run_name\n",
    "    if name is not None:\n",
    "        run_name += f' {name}'\n",
    "\n",
    "    # create new mlflow run which will become a parent of per-era runs\n",
    "    with mlflow.start_run(run_name=run_name) as parent_run:\n",
    "        # log gym  params\n",
    "        mlflow.log_param(\"gym_policy_class\", gym_policy_class.__name__)\n",
    "        mlflow.log_param(\"gym_model_name\", gym_model_name)\n",
    "        mlflow.log_param(\"start_version\", start_version)\n",
    "        for key, value in params.items():\n",
    "            mlflow.log_param(key, value)\n",
    "\n",
    "        # arrange tensorboard logs\n",
    "        mlflow_artifacts_dir = urllib.request.url2pathname(urllib.parse.urlparse(mlflow.get_artifact_uri()).path)\n",
    "        tensorboard_logdir = os.path.join(mlflow_artifacts_dir, \"tensorboard_log\")\n",
    "        os.makedirs(tensorboard_logdir, exist_ok=False)\n",
    "\n",
    "        # create gym model and directory to save it\n",
    "        if start_version:\n",
    "            registered_model = mlflow_client.get_model_version(model_name, start_version)\n",
    "            model = gym_policy_class.load(registered_model.source)\n",
    "            model.set_env(env)\n",
    "        else:\n",
    "            model = gym_policy_class(gym_model_name, env, verbose=0, tensorboard_log=tensorboard_logdir)\n",
    "            \n",
    "        saved_models_dir = os.path.join(mlflow_artifacts_dir, \"saved_models\")\n",
    "        os.makedirs(saved_models_dir, exist_ok=False)\n",
    "\n",
    "        ## run eras loop\n",
    "        metrics = None\n",
    "        for era in range(n_eras):\n",
    "            child_run_name = f'era={era}'\n",
    "            \n",
    "            with mlflow.start_run(run_name=child_run_name, nested=True) as child_run:            \n",
    "                model.learn(n_learn_episodes * n_steps)\n",
    "                registered_model = save_and_register_model(model, params, saved_models_dir, era, model_name, child_run)\n",
    "                mlflow.log_metric(\"model_version\", registered_model.version)\n",
    "\n",
    "                env.env_method('set_render_info', {'model_name': registered_model.name, 'model_version': registered_model.version, 'start_version': start_version})\n",
    "                metrics, _data = run_env_nsteps(env, model, n_steps, displayfunc=displayfunc)\n",
    "                log_metrics(metrics, step=era)\n",
    "                    \n",
    "        # log to the parent run\n",
    "        if metrics:\n",
    "            log_metrics(metrics, step=None)\n",
    "            \n",
    "    env.close()"
   ]
  },
  {
   "cell_type": "code",
   "execution_count": 6,
   "id": "meaningful-rover",
   "metadata": {},
   "outputs": [],
   "source": [
    "# we run N_ERAS eras (=mlflow runs) in total:\n",
    "#   first we let the agent learn for N_LEARN_EPISODES * MAX_NSTEPS\n",
    "#   then we run it one episode and log metrics\n",
    "N_ERAS = 25 # eras \n",
    "N_LEARN_EPISODES = 100\n",
    "MAX_NSTEPS = 150 # episode will end after so many steps\n",
    "N_ENVS = 1"
   ]
  },
  {
   "cell_type": "code",
   "execution_count": 7,
   "id": "committed-settlement",
   "metadata": {},
   "outputs": [],
   "source": [
    "NJ = 3"
   ]
  },
  {
   "cell_type": "code",
   "execution_count": 8,
   "id": "addressed-school",
   "metadata": {},
   "outputs": [],
   "source": [
    "# SAC(policy, env, gamma=0.99, learning_rate=0.0003, buffer_size=50000, learning_starts=100, train_freq=1,\n",
    "# batch_size=64, tau=0.005, ent_coef='auto', target_update_interval=1, gradient_steps=1, target_entropy='auto', action_noise=None,\n",
    "# random_exploration=0.0, verbose=0, tensorboard_log=None, _init_setup_model=True, policy_kwargs=None, full_tensorboard_log=False, seed=None, n_cpu_tf_sess=None)"
   ]
  },
  {
   "cell_type": "code",
   "execution_count": null,
   "id": "processed-blond",
   "metadata": {},
   "outputs": [
    {
     "data": {
      "image/png": "[encoded data removed]",
      "text/plain": [
       "<IPython.core.display.Image object>"
      ]
     },
     "metadata": {},
     "output_type": "display_data"
    },
    {
     "name": "stdout",
     "output_type": "stream",
     "text": [
      "-----------------------------------------\n",
      "| current_lr              | 0.0003      |\n",
      "| ent_coef                | 0.018612795 |\n",
      "| ent_coef_loss           | -3.215201   |\n",
      "| entropy                 | 1.6376001   |\n",
      "| ep_rewmean              | 46.3        |\n",
      "| episodes                | 4           |\n",
      "| eplenmean               | 151         |\n",
      "| fps                     | 455         |\n",
      "| mean 100 episode reward | 5           |\n",
      "| n_updates               | 354         |\n",
      "| policy_loss             | -14.068381  |\n",
      "| qf1_loss                | 0.40191776  |\n",
      "| qf2_loss                | 0.37016225  |\n",
      "| time_elapsed            | 0           |\n",
      "| total timesteps         | 453         |\n",
      "| value_loss              | 0.24991703  |\n",
      "-----------------------------------------\n"
     ]
    }
   ],
   "source": [
    "for _ in range(10):\n",
    "    learn_and_run(\n",
    "        n_joints=NJ,\n",
    "        n_eras=N_ERAS, n_learn_episodes=N_LEARN_EPISODES,\n",
    "        params={'MAX_NSTEPS': MAX_NSTEPS, 'ALPHA_MAXDIFF_GOAL': 3, 'EYE_PHI_MAXDIFF_GOAL': 3},\n",
    "        name='no eye_phi obs', displayfunc=True)"
   ]
  },
  {
   "cell_type": "code",
   "execution_count": null,
   "id": "standing-wayne",
   "metadata": {},
   "outputs": [],
   "source": []
  }
 ],
 "metadata": {
  "kernelspec": {
   "display_name": "Python 3",
   "language": "python",
   "name": "python3"
  },
  "language_info": {
   "codemirror_mode": {
    "name": "ipython",
    "version": 3
   },
   "file_extension": ".py",
   "mimetype": "text/x-python",
   "name": "python",
   "nbconvert_exporter": "python",
   "pygments_lexer": "ipython3",
   "version": "3.6.13"
  }
 },
 "nbformat": 4,
 "nbformat_minor": 5
}
