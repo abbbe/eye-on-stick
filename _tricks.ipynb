{
 "cells": [
  {
   "cell_type": "code",
   "execution_count": null,
   "id": "respective-childhood",
   "metadata": {},
   "outputs": [],
   "source": [
    "import PIL.Image\n",
    "import IPython.display\n",
    "import numpy as np\n",
    "from io import BytesIO\n",
    "\n",
    "def showarray(img_array):\n",
    "    buf = BytesIO()\n",
    "    PIL.Image.fromarray(np.uint8(img_array)).save(buf, 'png')\n",
    "    IPython.display.display(IPython.display.Image(data=buf.getvalue()))\n",
    "    \n",
    "showarray(np.random.uniform(low=(0,0,0),high=(255,255,255),size=(100,100,3)))"
   ]
  },
  {
   "cell_type": "code",
   "execution_count": null,
   "id": "floral-minority",
   "metadata": {},
   "outputs": [],
   "source": []
  }
 ],
 "metadata": {
  "kernelspec": {
   "display_name": "Python 3",
   "language": "python",
   "name": "python3"
  },
  "language_info": {
   "codemirror_mode": {
    "name": "ipython",
    "version": 3
   },
   "file_extension": ".py",
   "mimetype": "text/x-python",
   "name": "python",
   "nbconvert_exporter": "python",
   "pygments_lexer": "ipython3",
   "version": "3.6.12"
  }
 },
 "nbformat": 4,
 "nbformat_minor": 5
}
