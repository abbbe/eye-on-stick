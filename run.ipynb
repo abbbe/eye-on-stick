{
 "cells": [
  {
   "cell_type": "code",
   "execution_count": 1,
   "id": "surgical-chrome",
   "metadata": {},
   "outputs": [
    {
     "name": "stdout",
     "output_type": "stream",
     "text": [
      "WARNING:tensorflow:\n",
      "The TensorFlow contrib module will not be included in TensorFlow 2.0.\n",
      "For more information, please see:\n",
      "  * https://github.com/tensorflow/community/blob/master/rfcs/20180907-contrib-sunset.md\n",
      "  * https://github.com/tensorflow/addons\n",
      "  * https://github.com/tensorflow/io (for I/O related ops)\n",
      "If you depend on functionality not listed there, please file an issue.\n",
      "\n"
     ]
    }
   ],
   "source": [
    "%load_ext autoreload\n",
    "%autoreload 2\n",
    "\n",
    "import numpy as np\n",
    "import matplotlib.pyplot as plt\n",
    "%matplotlib inline\n",
    "\n",
    "from PIL import Image, ImageDraw\n",
    "from IPython import display\n",
    "from lib.viz import showarray\n",
    "\n",
    "from stable_baselines import SAC\n",
    "from stable_baselines.common.vec_env import VecNormalize\n",
    "from stable_baselines.common.cmd_util import make_vec_env\n",
    "\n",
    "import os\n",
    "os.environ[\"MLFLOW_TRACKING_URI\"] = \"sqlite:///mlruns/db.sqlite\"\n",
    "import mlflow\n",
    "mlflow_client = mlflow.tracking.MlflowClient()\n",
    "\n",
    "from lib import eos\n",
    "from lib.eos import EyeOnStickEnv\n",
    "from lib.run import run_env_nsteps"
   ]
  },
  {
   "cell_type": "code",
   "execution_count": 2,
   "id": "minus-removal",
   "metadata": {},
   "outputs": [],
   "source": [
    "#params = {\n",
    "#        'REWARD_AIM_WEIGHT': 1,\n",
    "#        'REWARD_LEVEL_WEIGHT': 0,\n",
    "#        'REWARD_ACTION_WEIGHT': 0,\n",
    "#        'GEAR_FUNC_NOISE': 0\n",
    "#}"
   ]
  },
  {
   "cell_type": "code",
   "execution_count": 3,
   "id": "provincial-species",
   "metadata": {},
   "outputs": [],
   "source": [
    "NJ = 3"
   ]
  },
  {
   "cell_type": "code",
   "execution_count": null,
   "id": "modular-emerald",
   "metadata": {},
   "outputs": [],
   "source": []
  },
  {
   "cell_type": "code",
   "execution_count": null,
   "id": "registered-miniature",
   "metadata": {},
   "outputs": [
    {
     "data": {
      "image/png": "[encoded data removed]",
      "text/plain": [
       "<IPython.core.display.Image object>"
      ]
     },
     "metadata": {},
     "output_type": "display_data"
    }
   ],
   "source": [
    "model_name, model_version = \"eos.3J\", None\n",
    "model, model_source = None, None\n",
    "\n",
    "while True:\n",
    "    if model_version is not None:\n",
    "        registered_model = mlflow_client.get_model_version(model_name, model_version)\n",
    "    else:\n",
    "        registered_model = mlflow_client.get_latest_versions(model_name, stages=[\"None\"])[0]\n",
    "        \n",
    "    #if model_source is None or model_source != registered_model.source:\n",
    "    model_source = registered_model.source\n",
    "    model = SAC.load(model_source)\n",
    "        \n",
    "    env = make_vec_env(lambda: EyeOnStickEnv(NJ, {}), n_envs=1)\n",
    "    #env = VecNormalize(env)\n",
    "    model.set_env(env)\n",
    "    run_env_nsteps(env, model, 1000, display=display)\n",
    "    \n",
    "if False:\n",
    "    obs = env.reset()\n",
    "    for _ in range(200):\n",
    "        actions = model.predict(obs)\n",
    "        obs, _rewards, done, _info = env.step(actions)\n",
    "        img_array = env.render(mode='rgb_array')\n",
    "\n",
    "        # second screen\n",
    "        from PIL import Image, ImageDraw\n",
    "        image = Image.new('RGB', (eos.SCREEN_SIZE[0], 100))\n",
    "        draw = ImageDraw.Draw(image)\n",
    "        draw.text((10, 10), f\"model name={registered_model.name} version={registered_model.version} source={registered_model.source}\", fill=(0, 128, 0))\n",
    "        img_array2 = np.asarray(image)\n",
    "\n",
    "        # display both screens\n",
    "        display.clear_output(wait=True)            \n",
    "        showarray(np.vstack([img_array, img_array2]))\n",
    "        \n",
    "        if done:\n",
    "            break"
   ]
  },
  {
   "cell_type": "code",
   "execution_count": null,
   "id": "desirable-prince",
   "metadata": {},
   "outputs": [],
   "source": []
  }
 ],
 "metadata": {
  "kernelspec": {
   "display_name": "Python 3",
   "language": "python",
   "name": "python3"
  },
  "language_info": {
   "codemirror_mode": {
    "name": "ipython",
    "version": 3
   },
   "file_extension": ".py",
   "mimetype": "text/x-python",
   "name": "python",
   "nbconvert_exporter": "python",
   "pygments_lexer": "ipython3",
   "version": "3.6.13"
  }
 },
 "nbformat": 4,
 "nbformat_minor": 5
}
