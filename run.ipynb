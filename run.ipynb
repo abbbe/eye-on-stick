{
 "cells": [
  {
   "cell_type": "code",
   "execution_count": null,
   "id": "dietary-treasure",
   "metadata": {},
   "outputs": [],
   "source": [
    "%load_ext autoreload\n",
    "%autoreload 2\n",
    "\n",
    "import numpy as np\n",
    "import matplotlib.pyplot as plt\n",
    "%matplotlib inline\n",
    "\n",
    "from PIL import Image, ImageDraw\n",
    "from IPython import display\n",
    "from lib.viz import showarray\n",
    "\n",
    "\n",
    "import os, time, json, io\n",
    "#os.environ[\"MLFLOW_TRACKING_URI\"] = \"sqlite:///mlruns/db.sqlite\"\n",
    "#import mlflow\n",
    "#mlflow_client = mlflow.tracking.MlflowClient()\n",
    "\n",
    "from lib import eos\n",
    "\n",
    "#from lib.eos import EyeOnStickEnv\n",
    "#ENV = EyeOnStickEnv\n",
    "\n",
    "from lib.pyb.eos3d import EyeOnStickEnv3D\n",
    "\n",
    "from lib.run import find_model, mk_env_agent, nsteps_env_agent\n",
    "\n",
    "import logging\n",
    "logger = logging.getLogger()"
   ]
  },
  {
   "cell_type": "code",
   "execution_count": null,
   "id": "adjacent-finland",
   "metadata": {},
   "outputs": [],
   "source": [
    "from lib.run import mk_env_agent\n",
    "from lib.dashboard import get_episode_dashboard, get_episode_dashboard_v2"
   ]
  },
  {
   "cell_type": "code",
   "execution_count": null,
   "id": "deluxe-unknown",
   "metadata": {},
   "outputs": [],
   "source": [
    "env_class = EyeOnStickEnv3D\n",
    "model_name='eos3d.6j-coarse-aim'\n",
    "model_version = 133\n",
    "params = {'NJ': 6, 'NP': 4, 'MAX_NSTEPS': 150}"
   ]
  },
  {
   "cell_type": "code",
   "execution_count": null,
   "id": "seasonal-valuation",
   "metadata": {},
   "outputs": [],
   "source": [
    "registered_model = find_model(model_name, model_version=model_version)\n",
    "print(registered_model)"
   ]
  },
  {
   "cell_type": "code",
   "execution_count": null,
   "id": "polyphonic-finnish",
   "metadata": {},
   "outputs": [],
   "source": [
    "gui = False\n",
    "\n",
    "while True:\n",
    "    env, model = mk_env_agent(env_class, registered_model, params, gui=gui)\n",
    "    _obs, _rewards, _dones, infos, images = nsteps_env_agent(env, model, params['MAX_NSTEPS'])\n",
    "    \n",
    "    episode_dashboard_img_array = get_episode_dashboard_v2(infos)\n",
    "    #print(episode_dashboard_img_array.shape)\n",
    "        \n",
    "    for i in range(params['MAX_NSTEPS']):\n",
    "        display.clear_output(wait=True)\n",
    "        img_array = np.vstack((images[i], episode_dashboard_img_array))        \n",
    "        showarray(img_array)\n",
    "\n",
    "        #img_array = np.hstack((img_array, env.envs[0].render_step_dashboard()))\n",
    "        time.sleep(0.04)\n",
    "    \n",
    "    env.close()"
   ]
  },
  {
   "cell_type": "code",
   "execution_count": null,
   "id": "voluntary-winter",
   "metadata": {},
   "outputs": [],
   "source": []
  }
 ],
 "metadata": {
  "kernelspec": {
   "display_name": "Python 3",
   "language": "python",
   "name": "python3"
  },
  "language_info": {
   "codemirror_mode": {
    "name": "ipython",
    "version": 3
   },
   "file_extension": ".py",
   "mimetype": "text/x-python",
   "name": "python",
   "nbconvert_exporter": "python",
   "pygments_lexer": "ipython3",
   "version": "3.6.13"
  }
 },
 "nbformat": 4,
 "nbformat_minor": 5
}
