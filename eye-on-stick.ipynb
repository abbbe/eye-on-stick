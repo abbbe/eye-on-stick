{
 "cells": [
  {
   "cell_type": "code",
   "execution_count": null,
   "id": "surprised-specific",
   "metadata": {},
   "outputs": [],
   "source": [
    "if 'google.colab' in str(get_ipython()):\n",
    "    !pip install -r https://raw.githubusercontent.com/abbbe/eye-on-stick/main/requirements.txt"
   ]
  },
  {
   "cell_type": "code",
   "execution_count": null,
   "id": "controlled-vatican",
   "metadata": {},
   "outputs": [],
   "source": [
    "%load_ext autoreload\n",
    "%autoreload 2\n",
    "\n",
    "import numpy as np\n",
    "\n",
    "import os, urllib\n",
    "import mlflow, git\n",
    "\n",
    "from stable_baselines.common.cmd_util import make_vec_env\n",
    "from stable_baselines.common.vec_env import VecNormalize\n",
    "\n",
    "import matplotlib.pyplot as plt\n",
    "%matplotlib inline\n",
    "\n",
    "from lib import eos\n",
    "from lib.eos import EyeOnStickEnv"
   ]
  },
  {
   "cell_type": "code",
   "execution_count": null,
   "id": "painful-recruitment",
   "metadata": {},
   "outputs": [],
   "source": [
    "from PIL import Image, ImageDraw\n",
    "from IPython import display\n",
    "from io import BytesIO\n",
    "\n",
    "def showarray(img_array):\n",
    "    buf = BytesIO()\n",
    "    Image.fromarray(np.uint8(img_array)).save(buf, 'png')\n",
    "    display.display(display.Image(data=buf.getvalue()))"
   ]
  },
  {
   "cell_type": "code",
   "execution_count": null,
   "id": "billion-adams",
   "metadata": {},
   "outputs": [],
   "source": [
    "#assert not git.Repo().is_dirty()"
   ]
  },
  {
   "cell_type": "code",
   "execution_count": null,
   "id": "laden-farmer",
   "metadata": {},
   "outputs": [],
   "source": [
    "env = make_vec_env(lambda: EyeOnStickEnv(), n_envs=eos.N_ENVS)\n",
    "env = VecNormalize(env)"
   ]
  },
  {
   "cell_type": "code",
   "execution_count": null,
   "id": "pressing-stamp",
   "metadata": {},
   "outputs": [],
   "source": [
    "with mlflow.start_run(run_name='eye-on-stick neglog nogoals refactor') as parent_run:\n",
    "    mlflow_artifacts_dir = urllib.request.url2pathname(urllib.parse.urlparse(mlflow.get_artifact_uri()).path)\n",
    "    \n",
    "    mlflow.log_param(\"policy_class\", eos.POLICY_CLASS.__name__)\n",
    "    mlflow.log_param(\"model_name\", eos.MODEL_NAME)\n",
    "    mlflow.log_param(\"n_goals\", eos.N_GOALS)\n",
    "    mlflow.log_param(\"reward_aim_clip\", eos.REWARD_AIM_CLIP)\n",
    "\n",
    "    tensorboard_logdir = os.path.join(mlflow_artifacts_dir, \"tensorboard_log\")\n",
    "    os.makedirs(tensorboard_logdir, exist_ok=False)\n",
    "    \n",
    "    model = eos.POLICY_CLASS(eos.MODEL_NAME, env, verbose=1, tensorboard_log=tensorboard_logdir)\n",
    "    \n",
    "    for era in range(1000000000): # FIXME\n",
    "        with mlflow.start_run(run_name=f'era={era}', nested=True) as child_run:\n",
    "            total_reward = 0\n",
    "            alphas = []\n",
    "\n",
    "            obs = env.env_method('reset', reset_pose=True)\n",
    "\n",
    "            for _ in range(eos.N_STEPS):\n",
    "                display.clear_output(wait=True)\n",
    "                showarray(env.render(mode='rgb_array'))\n",
    "\n",
    "                actions, _ = model.predict(obs, deterministic=True)\n",
    "                obs, rewards, _dones, infos = env.step(actions)\n",
    "                \n",
    "                total_reward += np.sum(rewards)\n",
    "                alphas.append([info['alpha'] for info in infos])                \n",
    "            \n",
    "            mlflow.log_metric(key=\"alpha_mean\", value=np.mean(alphas), step=era)\n",
    "            mlflow.log_metric(key=\"alpha_std\", value=np.std(alphas), step=era)\n",
    "            mlflow.log_metric(key=\"total_reward\", value=total_reward, step=era)\n",
    "\n",
    "            model.learn(eos.N_LEARN_EPOCHS)\n",
    "            #mlflow.keras.save_model(model, f\"era{era}\")\n",
    " \n",
    "    env.close()"
   ]
  },
  {
   "cell_type": "code",
   "execution_count": null,
   "id": "recovered-apartment",
   "metadata": {},
   "outputs": [],
   "source": []
  },
  {
   "cell_type": "code",
   "execution_count": null,
   "id": "floppy-programming",
   "metadata": {},
   "outputs": [],
   "source": []
  }
 ],
 "metadata": {
  "kernelspec": {
   "display_name": "Python 3",
   "language": "python",
   "name": "python3"
  },
  "language_info": {
   "codemirror_mode": {
    "name": "ipython",
    "version": 3
   },
   "file_extension": ".py",
   "mimetype": "text/x-python",
   "name": "python",
   "nbconvert_exporter": "python",
   "pygments_lexer": "ipython3",
   "version": "3.6.13"
  }
 },
 "nbformat": 4,
 "nbformat_minor": 5
}
