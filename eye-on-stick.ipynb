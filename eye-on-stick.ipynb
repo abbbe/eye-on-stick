{
 "cells": [
  {
   "cell_type": "code",
   "execution_count": 1,
   "id": "consolidated-representative",
   "metadata": {},
   "outputs": [],
   "source": [
    "if 'google.colab' in str(get_ipython()):\n",
    "    !pip install -r https://raw.githubusercontent.com/abbbe/eye-on-stick/main/requirements.txt\n",
    "    !git clone https://github.com/abbbe/eye-on-stick\n",
    "    %cd eye-on-stick"
   ]
  },
  {
   "cell_type": "code",
   "execution_count": 2,
   "id": "effective-connection",
   "metadata": {},
   "outputs": [
    {
     "name": "stdout",
     "output_type": "stream",
     "text": [
      "WARNING:tensorflow:\n",
      "The TensorFlow contrib module will not be included in TensorFlow 2.0.\n",
      "For more information, please see:\n",
      "  * https://github.com/tensorflow/community/blob/master/rfcs/20180907-contrib-sunset.md\n",
      "  * https://github.com/tensorflow/addons\n",
      "  * https://github.com/tensorflow/io (for I/O related ops)\n",
      "If you depend on functionality not listed there, please file an issue.\n",
      "\n"
     ]
    }
   ],
   "source": [
    "%load_ext autoreload\n",
    "%autoreload 2\n",
    "\n",
    "import numpy as np\n",
    "\n",
    "import os, urllib\n",
    "import mlflow, git\n",
    "\n",
    "from stable_baselines.common.cmd_util import make_vec_env\n",
    "from stable_baselines.common.vec_env import VecNormalize\n",
    "from stable_baselines import PPO2, SAC\n",
    "\n",
    "import matplotlib.pyplot as plt\n",
    "%matplotlib inline\n",
    "\n",
    "from lib import eos\n",
    "from lib.eos import EyeOnStickEnv"
   ]
  },
  {
   "cell_type": "code",
   "execution_count": 3,
   "id": "amino-peace",
   "metadata": {},
   "outputs": [],
   "source": [
    "from PIL import Image, ImageDraw\n",
    "from IPython import display\n",
    "from io import BytesIO\n",
    "\n",
    "def showarray(img_array):\n",
    "    buf = BytesIO()\n",
    "    Image.fromarray(np.uint8(img_array)).save(buf, 'png')\n",
    "    display.display(display.Image(data=buf.getvalue()))"
   ]
  },
  {
   "cell_type": "code",
   "execution_count": 4,
   "id": "accessible-syndication",
   "metadata": {},
   "outputs": [],
   "source": [
    "#assert not git.Repo().is_dirty()"
   ]
  },
  {
   "cell_type": "code",
   "execution_count": 5,
   "id": "valued-compact",
   "metadata": {},
   "outputs": [],
   "source": [
    "# we run N_ERAS eras (=mlflow runs), each era consists of N_STEPS steps\n",
    "# at the end of each era we report metrics to mlflow and learn for N_LEARN_EPOCHS epochs\n",
    "N_ERAS = 25 # eras \n",
    "N_STEPS = 1000 # steps each\n",
    "N_LEARN_EPOCHS = 10000\n",
    "\n",
    "N_ENVS = 1\n",
    "\n",
    "params = {\n",
    "        'REWARD_AIM_WEIGHT': 1,\n",
    "        'REWARD_LEVEL_WEIGHT': 1,\n",
    "        'REWARD_ACTION_WEIGHT': 0.1\n",
    "}"
   ]
  },
  {
   "cell_type": "code",
   "execution_count": 6,
   "id": "national-sailing",
   "metadata": {},
   "outputs": [],
   "source": [
    "def run(n_joints, policy_class, model_name, N_ENVS=N_ENVS, name=None):\n",
    "    env = make_vec_env(lambda: EyeOnStickEnv(n_joints, params), n_envs=N_ENVS)\n",
    "    env = VecNormalize(env)\n",
    "    \n",
    "    run_name = f'{n_joints}J'\n",
    "    if name is not None:\n",
    "        run_name += f' {name}'\n",
    "\n",
    "    with mlflow.start_run(run_name=run_name) as parent_run:\n",
    "        # log params\n",
    "        mlflow.log_param(\"policy_class\", policy_class.__name__)\n",
    "        mlflow.log_param(\"model_name\", model_name)        \n",
    "        for key, value in params.items():\n",
    "            mlflow.log_param(key, value)\n",
    "\n",
    "        # arrange tensorboard logs\n",
    "        mlflow_artifacts_dir = urllib.request.url2pathname(urllib.parse.urlparse(mlflow.get_artifact_uri()).path)\n",
    "        tensorboard_logdir = os.path.join(mlflow_artifacts_dir, \"tensorboard_log\")\n",
    "        os.makedirs(tensorboard_logdir, exist_ok=False)\n",
    "\n",
    "        model = policy_class(model_name, env, verbose=1, tensorboard_log=tensorboard_logdir)\n",
    "\n",
    "        for era in range(N_ERAS):\n",
    "            with mlflow.start_run(run_name=f'era={era}', nested=True) as child_run:\n",
    "                all_alphas, all_rewards = [], []\n",
    "\n",
    "                obs = env.reset()\n",
    "\n",
    "                for _ in range(N_STEPS):\n",
    "                    display.clear_output(wait=True)\n",
    "                    showarray(env.render(mode='rgb_array'))\n",
    "                    #import time\n",
    "                    #time.sleep(.05)\n",
    "\n",
    "                    actions, _ = model.predict(obs, deterministic=True)\n",
    "                    obs, rewards, _dones, infos = env.step(actions)\n",
    "\n",
    "                    all_alphas.append([info['alpha'] for info in infos])                \n",
    "                    all_rewards.append(rewards)\n",
    "\n",
    "                mlflow.log_metric(key=\"alpha_mean\", value=np.mean(all_alphas), step=era)\n",
    "                mlflow.log_metric(key=\"alpha_std\", value=np.std(all_alphas), step=era)\n",
    "                mlflow.log_metric(key=\"reward_total\", value=np.sum(all_rewards), step=era)\n",
    "                mlflow.log_metric(key=\"reward_mean\", value=np.mean(all_rewards), step=era)\n",
    "                mlflow.log_metric(key=\"reward_std\", value=np.std(all_rewards), step=era)\n",
    "\n",
    "                model.learn(N_LEARN_EPOCHS)\n",
    "                #mlflow.keras.save_model(model, f\"era{era}\")\n",
    "\n",
    "        env.close()"
   ]
  },
  {
   "cell_type": "code",
   "execution_count": null,
   "id": "flush-ordinary",
   "metadata": {},
   "outputs": [],
   "source": []
  },
  {
   "cell_type": "code",
   "execution_count": null,
   "id": "relevant-boring",
   "metadata": {},
   "outputs": [
    {
     "data": {
      "image/png": "[encoded data removed]",
      "text/plain": [
       "<IPython.core.display.Image object>"
      ]
     },
     "metadata": {},
     "output_type": "display_data"
    }
   ],
   "source": [
    "for _ in range(5):\n",
    "    run(n_joints=4, policy_class=SAC, model_name='MlpPolicy')"
   ]
  }
 ],
 "metadata": {
  "kernelspec": {
   "display_name": "Python 3",
   "language": "python",
   "name": "python3"
  },
  "language_info": {
   "codemirror_mode": {
    "name": "ipython",
    "version": 3
   },
   "file_extension": ".py",
   "mimetype": "text/x-python",
   "name": "python",
   "nbconvert_exporter": "python",
   "pygments_lexer": "ipython3",
   "version": "3.6.13"
  }
 },
 "nbformat": 4,
 "nbformat_minor": 5
}
