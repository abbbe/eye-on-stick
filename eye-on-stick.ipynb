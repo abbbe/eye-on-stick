{
 "cells": [
  {
   "cell_type": "code",
   "execution_count": 1,
   "id": "single-necklace",
   "metadata": {},
   "outputs": [],
   "source": [
    "if 'google.colab' in str(get_ipython()):\n",
    "    !pip install -r https://raw.githubusercontent.com/abbbe/eye-on-stick/main/requirements.txt\n",
    "    !git clone https://github.com/abbbe/eye-on-stick\n",
    "    %cd eye-on-stick"
   ]
  },
  {
   "cell_type": "code",
   "execution_count": 2,
   "id": "affiliated-evolution",
   "metadata": {},
   "outputs": [
    {
     "name": "stdout",
     "output_type": "stream",
     "text": [
      "WARNING:tensorflow:\n",
      "The TensorFlow contrib module will not be included in TensorFlow 2.0.\n",
      "For more information, please see:\n",
      "  * https://github.com/tensorflow/community/blob/master/rfcs/20180907-contrib-sunset.md\n",
      "  * https://github.com/tensorflow/addons\n",
      "  * https://github.com/tensorflow/io (for I/O related ops)\n",
      "If you depend on functionality not listed there, please file an issue.\n",
      "\n"
     ]
    }
   ],
   "source": [
    "%load_ext autoreload\n",
    "%autoreload 2\n",
    "\n",
    "import numpy as np\n",
    "\n",
    "import os, urllib, time\n",
    "import mlflow, git\n",
    "\n",
    "from stable_baselines.common.cmd_util import make_vec_env\n",
    "from stable_baselines.common.vec_env import VecNormalize\n",
    "from stable_baselines import PPO2, SAC\n",
    "\n",
    "import matplotlib.pyplot as plt\n",
    "%matplotlib inline\n",
    "\n",
    "from lib import eos\n",
    "from lib.eos import EyeOnStickEnv"
   ]
  },
  {
   "cell_type": "code",
   "execution_count": 3,
   "id": "absolute-swift",
   "metadata": {},
   "outputs": [],
   "source": [
    "from PIL import Image, ImageDraw\n",
    "from IPython import display\n",
    "from io import BytesIO\n",
    "\n",
    "def showarray(img_array):\n",
    "    buf = BytesIO()\n",
    "    Image.fromarray(np.uint8(img_array)).save(buf, 'png')\n",
    "    display.display(display.Image(data=buf.getvalue()))"
   ]
  },
  {
   "cell_type": "code",
   "execution_count": 4,
   "id": "mediterranean-correlation",
   "metadata": {},
   "outputs": [],
   "source": [
    "with git.Repo() as repo:\n",
    "    git_info = f'{repo.active_branch.name}/{repo.git.rev_parse(repo.head.object.hexsha, short=4)}'\n",
    "    if repo.is_dirty():\n",
    "        git_info = f'*{git_info}'"
   ]
  },
  {
   "cell_type": "code",
   "execution_count": 5,
   "id": "iraqi-knife",
   "metadata": {},
   "outputs": [],
   "source": [
    "# we run N_ERAS eras (=mlflow runs), each era consists of N_STEPS steps\n",
    "# at the end of each era we report metrics to mlflow and learn for N_LEARN_EPOCHS epochs\n",
    "N_ERAS = 25 # eras \n",
    "N_STEPS = 1000 # steps each\n",
    "N_LEARN_EPOCHS = 10000\n",
    "\n",
    "N_ENVS = 1\n",
    "\n",
    "params = {\n",
    "        'REWARD_AIM_WEIGHT': 1,\n",
    "        'REWARD_LEVEL_WEIGHT': 1,\n",
    "        'REWARD_ACTION_WEIGHT': 0,\n",
    "        'GEAR_FUNC_NOISE': 0\n",
    "}"
   ]
  },
  {
   "cell_type": "code",
   "execution_count": 6,
   "id": "ordinary-philosophy",
   "metadata": {},
   "outputs": [],
   "source": [
    "def run(n_joints, policy_class, model_name, N_ENVS=N_ENVS, name=None):\n",
    "    env = make_vec_env(lambda: EyeOnStickEnv(n_joints, params), n_envs=N_ENVS)\n",
    "    env = VecNormalize(env)\n",
    "    \n",
    "    run_name = f'{n_joints}J'\n",
    "    if name is not None:\n",
    "        run_name += f' {name}'\n",
    "\n",
    "    with mlflow.start_run(run_name=run_name) as parent_run:\n",
    "        # log params\n",
    "        mlflow.log_param(\"policy_class\", policy_class.__name__)\n",
    "        mlflow.log_param(\"model_name\", model_name)        \n",
    "        for key, value in params.items():\n",
    "            mlflow.log_param(key, value)\n",
    "\n",
    "        # arrange tensorboard logs\n",
    "        mlflow_artifacts_dir = urllib.request.url2pathname(urllib.parse.urlparse(mlflow.get_artifact_uri()).path)\n",
    "        tensorboard_logdir = os.path.join(mlflow_artifacts_dir, \"tensorboard_log\")\n",
    "        os.makedirs(tensorboard_logdir, exist_ok=False)\n",
    "\n",
    "        model = policy_class(model_name, env, verbose=1, tensorboard_log=tensorboard_logdir)\n",
    "        saved_models_dir = os.path.join(mlflow_artifacts_dir, \"saved_models\")\n",
    "        os.makedirs(saved_models_dir, exist_ok=False)\n",
    "\n",
    "        def log_run_metrics():\n",
    "            mlflow.log_metric(key=\"alpha_mean\", value=np.mean(all_alphas), step=era)\n",
    "            mlflow.log_metric(key=\"alpha_std\", value=np.std(all_alphas), step=era)\n",
    "            mlflow.log_metric(key=\"eye_phi_mean\", value=np.mean(all_eye_phis), step=era)\n",
    "            mlflow.log_metric(key=\"eye_phi_std\", value=np.std(all_eye_phis), step=era)\n",
    "            mlflow.log_metric(key=\"reward_total\", value=np.sum(all_rewards), step=era)\n",
    "            mlflow.log_metric(key=\"reward_mean\", value=np.mean(all_rewards), step=era)\n",
    "            mlflow.log_metric(key=\"reward_std\", value=np.std(all_rewards), step=era)\n",
    "\n",
    "        for era in range(N_ERAS):\n",
    "            all_alphas, all_eye_phis, all_rewards = [], [], []\n",
    "            \n",
    "            with mlflow.start_run(run_name=f'era={era}', nested=True) as child_run:\n",
    "                if era > 0: # do not run simulation on freshly initialized model FIXME\n",
    "                    obs = env.reset()\n",
    "                    for _ in range(N_STEPS):\n",
    "                        display.clear_output(wait=True)\n",
    "                        showarray(env.render(mode='rgb_array'))\n",
    "                        #import time\n",
    "                        #time.sleep(.05)\n",
    "\n",
    "                        actions, _ = model.predict(obs, deterministic=True)\n",
    "                        obs, rewards, _dones, infos = env.step(actions)\n",
    "\n",
    "                        all_alphas.append([info['alpha'] for info in infos])                \n",
    "                        all_eye_phis.append([info['eye_phi'] for info in infos])                \n",
    "                        all_rewards.append(rewards)\n",
    "\n",
    "                    # log metrics into the child run\n",
    "                    log_run_metrics()\n",
    "                \n",
    "                # learn, measure time it takes, and log it\n",
    "                env.reset()\n",
    "                start = time.perf_counter()\n",
    "                model.learn(N_LEARN_EPOCHS)\n",
    "                end = time.perf_counter()\n",
    "                # log the mertics\n",
    "                mlflow.log_metric(key=\"learning_time\", value=(end-start), step=era)\n",
    "                # save the trained models, each era separately\n",
    "                model_fname = f'{saved_models_dir}/{era}'\n",
    "                model.save(model_fname)\n",
    "                \n",
    "            # this should log to the parent run\n",
    "            log_run_metrics()\n",
    "                            \n",
    "    env.close()"
   ]
  },
  {
   "cell_type": "code",
   "execution_count": null,
   "id": "usual-impact",
   "metadata": {},
   "outputs": [],
   "source": []
  },
  {
   "cell_type": "code",
   "execution_count": null,
   "id": "behavioral-plant",
   "metadata": {},
   "outputs": [
    {
     "data": {
      "image/png": "[encoded data removed]",
      "text/plain": [
       "<IPython.core.display.Image object>"
      ]
     },
     "metadata": {},
     "output_type": "display_data"
    }
   ],
   "source": [
    "for _ in range(5):\n",
    "    run(n_joints=4, policy_class=SAC, model_name='MlpPolicy', name=git_info)"
   ]
  },
  {
   "cell_type": "code",
   "execution_count": null,
   "id": "attended-acrobat",
   "metadata": {},
   "outputs": [],
   "source": []
  }
 ],
 "metadata": {
  "kernelspec": {
   "display_name": "Python 3",
   "language": "python",
   "name": "python3"
  },
  "language_info": {
   "codemirror_mode": {
    "name": "ipython",
    "version": 3
   },
   "file_extension": ".py",
   "mimetype": "text/x-python",
   "name": "python",
   "nbconvert_exporter": "python",
   "pygments_lexer": "ipython3",
   "version": "3.6.13"
  }
 },
 "nbformat": 4,
 "nbformat_minor": 5
}
