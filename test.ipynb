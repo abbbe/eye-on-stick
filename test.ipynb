{
 "cells": [
  {
   "cell_type": "code",
   "execution_count": 1,
   "id": "handmade-winter",
   "metadata": {},
   "outputs": [],
   "source": [
    "if 'google.colab' in str(get_ipython()):\n",
    "    !pip install -r https://raw.githubusercontent.com/abbbe/eye-on-stick/main/requirements.txt\n",
    "    !git clone https://github.com/abbbe/eye-on-stick\n",
    "    %cd eye-on-stick"
   ]
  },
  {
   "cell_type": "code",
   "execution_count": 2,
   "id": "separate-consequence",
   "metadata": {},
   "outputs": [],
   "source": [
    "%load_ext autoreload\n",
    "%autoreload 2\n",
    "\n",
    "import numpy as np\n",
    "\n",
    "import matplotlib.pyplot as plt\n",
    "%matplotlib inline\n",
    "\n",
    "from lib.viz import showarray\n",
    "\n",
    "from lib.pyb.eos3d import EyeOnStickEnv3D"
   ]
  },
  {
   "cell_type": "markdown",
   "id": "caroline-kruger",
   "metadata": {},
   "source": [
    "# Tests 6DOF PYBULLET robot"
   ]
  },
  {
   "cell_type": "markdown",
   "id": "pediatric-pilot",
   "metadata": {},
   "source": [
    "## TEST1: The robot is upright, the target is high"
   ]
  },
  {
   "cell_type": "code",
   "execution_count": 3,
   "id": "equivalent-austin",
   "metadata": {},
   "outputs": [],
   "source": [
    "env = EyeOnStickEnv3D(6, {'ALPHA_MAXDIFF_GOAL': 3, 'EYE_LEVEL_MAXDIFF_GOAL': None, 'MAX_NSTEPS': 10})"
   ]
  },
  {
   "cell_type": "code",
   "execution_count": 4,
   "id": "spanish-external",
   "metadata": {},
   "outputs": [],
   "source": [
    "env.reset()\n",
    "env.set_1dof_target(env.T_HIGH)\n",
    "env.apply_phi()"
   ]
  },
  {
   "cell_type": "code",
   "execution_count": 5,
   "id": "entitled-pathology",
   "metadata": {},
   "outputs": [
    {
     "data": {
      "image/png": "[encoded data removed]",
      "text/plain": [
       "<IPython.core.display.Image object>"
      ]
     },
     "metadata": {},
     "output_type": "display_data"
    },
    {
     "data": {
      "image/png": "[encoded data removed]",
      "text/plain": [
       "<IPython.core.display.Image object>"
      ]
     },
     "metadata": {},
     "output_type": "display_data"
    },
    {
     "data": {
      "text/plain": [
       "(1.8291857631118922, 1.5707963267948954)"
      ]
     },
     "execution_count": 5,
     "metadata": {},
     "output_type": "execute_result"
    }
   ],
   "source": [
    "showarray(env.side_cam.getRGBAImage())\n",
    "showarray(env.eye_cam.getRGBAImage())\n",
    "env.alpha, env.eye_level"
   ]
  },
  {
   "cell_type": "markdown",
   "id": "wrong-clinton",
   "metadata": {},
   "source": [
    "(1.6284704453404226, 1.5707963267948963)"
   ]
  },
  {
   "cell_type": "markdown",
   "id": "disabled-crime",
   "metadata": {},
   "source": [
    "## TEST2: the target goes to the lowest end"
   ]
  },
  {
   "cell_type": "code",
   "execution_count": 6,
   "id": "living-combining",
   "metadata": {},
   "outputs": [],
   "source": [
    "env.set_1dof_target(env.T_LOW)\n",
    "env.apply_phi()"
   ]
  },
  {
   "cell_type": "code",
   "execution_count": 7,
   "id": "korean-spine",
   "metadata": {},
   "outputs": [
    {
     "data": {
      "image/png": "[encoded data removed]",
      "text/plain": [
       "<IPython.core.display.Image object>"
      ]
     },
     "metadata": {},
     "output_type": "display_data"
    },
    {
     "data": {
      "image/png": "[encoded data removed]",
      "text/plain": [
       "<IPython.core.display.Image object>"
      ]
     },
     "metadata": {},
     "output_type": "display_data"
    },
    {
     "data": {
      "text/plain": [
       "(2.1094721483522765, 1.5707963267948954)"
      ]
     },
     "execution_count": 7,
     "metadata": {},
     "output_type": "execute_result"
    }
   ],
   "source": [
    "showarray(env.side_cam.getRGBAImage())\n",
    "showarray(env.eye_cam.getRGBAImage())\n",
    "env.alpha, env.eye_level"
   ]
  },
  {
   "cell_type": "markdown",
   "id": "elementary-nutrition",
   "metadata": {},
   "source": [
    "## TEST 3: PERFECT AIM at T_LOW"
   ]
  },
  {
   "cell_type": "code",
   "execution_count": 8,
   "id": "other-lawrence",
   "metadata": {},
   "outputs": [],
   "source": [
    "env.set_1dof_target(env.T_LOW)\n",
    "env.phi = np.array([np.pi/4,0, np.pi/4,0, 0,0])\n",
    "env.apply_phi()"
   ]
  },
  {
   "cell_type": "code",
   "execution_count": 9,
   "id": "anticipated-genius",
   "metadata": {},
   "outputs": [
    {
     "data": {
      "image/png": "[encoded data removed]",
      "text/plain": [
       "<IPython.core.display.Image object>"
      ]
     },
     "metadata": {},
     "output_type": "display_data"
    },
    {
     "data": {
      "image/png": "[encoded data removed]",
      "text/plain": [
       "<IPython.core.display.Image object>"
      ]
     },
     "metadata": {},
     "output_type": "display_data"
    },
    {
     "data": {
      "text/plain": [
       "(0.0, 0.0)"
      ]
     },
     "execution_count": 9,
     "metadata": {},
     "output_type": "execute_result"
    }
   ],
   "source": [
    "showarray(env.side_cam.getRGBAImage())\n",
    "showarray(env.eye_cam.getRGBAImage())\n",
    "env.alpha, env.eye_level"
   ]
  },
  {
   "cell_type": "markdown",
   "id": "placed-discipline",
   "metadata": {},
   "source": [
    "## TEST 4: PERFECT AIM at T_HIGH"
   ]
  },
  {
   "cell_type": "code",
   "execution_count": 10,
   "id": "distributed-mercury",
   "metadata": {},
   "outputs": [],
   "source": [
    "env.set_1dof_target(env.T_HIGH)\n",
    "env.phi = np.array([0,0, np.pi/4,0,np.pi/4,0])\n",
    "env.apply_phi()"
   ]
  },
  {
   "cell_type": "code",
   "execution_count": 11,
   "id": "ultimate-treat",
   "metadata": {},
   "outputs": [
    {
     "data": {
      "image/png": "[encoded data removed]",
      "text/plain": [
       "<IPython.core.display.Image object>"
      ]
     },
     "metadata": {},
     "output_type": "display_data"
    },
    {
     "data": {
      "image/png": "[encoded data removed]",
      "text/plain": [
       "<IPython.core.display.Image object>"
      ]
     },
     "metadata": {},
     "output_type": "display_data"
    },
    {
     "data": {
      "text/plain": [
       "(0.0, 0.0)"
      ]
     },
     "execution_count": 11,
     "metadata": {},
     "output_type": "execute_result"
    }
   ],
   "source": [
    "showarray(env.side_cam.getRGBAImage())\n",
    "showarray(env.eye_cam.getRGBAImage())\n",
    "env.alpha, env.eye_level"
   ]
  },
  {
   "cell_type": "code",
   "execution_count": 12,
   "id": "colonial-absorption",
   "metadata": {},
   "outputs": [],
   "source": [
    "env.close()"
   ]
  }
 ],
 "metadata": {
  "kernelspec": {
   "display_name": "Python 3",
   "language": "python",
   "name": "python3"
  },
  "language_info": {
   "codemirror_mode": {
    "name": "ipython",
    "version": 3
   },
   "file_extension": ".py",
   "mimetype": "text/x-python",
   "name": "python",
   "nbconvert_exporter": "python",
   "pygments_lexer": "ipython3",
   "version": "3.6.13"
  }
 },
 "nbformat": 4,
 "nbformat_minor": 5
}
