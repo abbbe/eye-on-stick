{
 "cells": [
  {
   "cell_type": "code",
   "execution_count": 1,
   "id": "differential-gossip",
   "metadata": {},
   "outputs": [],
   "source": [
    "if 'google.colab' in str(get_ipython()):\n",
    "    !pip install -r https://raw.githubusercontent.com/abbbe/eye-on-stick/main/requirements.txt\n",
    "    !git clone https://github.com/abbbe/eye-on-stick\n",
    "    %cd eye-on-stick"
   ]
  },
  {
   "cell_type": "code",
   "execution_count": 2,
   "id": "satisfactory-wells",
   "metadata": {},
   "outputs": [],
   "source": [
    "%load_ext autoreload\n",
    "%autoreload 2\n",
    "\n",
    "import numpy as np\n",
    "\n",
    "import matplotlib.pyplot as plt\n",
    "%matplotlib inline\n",
    "\n",
    "from lib.viz import showarray\n",
    "\n",
    "from lib.pyb.eos3d import EyeOnStickEnv3D"
   ]
  },
  {
   "cell_type": "markdown",
   "id": "changing-commodity",
   "metadata": {},
   "source": [
    "# Tests 6DOF PYBULLET robot"
   ]
  },
  {
   "cell_type": "markdown",
   "id": "divine-swimming",
   "metadata": {},
   "source": [
    "## TEST1: The robot is upright, the target is high"
   ]
  },
  {
   "cell_type": "code",
   "execution_count": 3,
   "id": "aging-square",
   "metadata": {},
   "outputs": [],
   "source": [
    "env = EyeOnStickEnv3D(6, {'ALPHA_MAXDIFF_GOAL': 3, 'EYE_LEVEL_MAXDIFF_GOAL': None, 'MAX_NSTEPS': 10}, gui=True)"
   ]
  },
  {
   "cell_type": "code",
   "execution_count": 4,
   "id": "urban-district",
   "metadata": {},
   "outputs": [
    {
     "name": "stdout",
     "output_type": "stream",
     "text": [
      "target_mask [[0. 0. 0. ... 0. 0. 0.]\n",
      " [0. 0. 0. ... 0. 0. 0.]\n",
      " [0. 0. 0. ... 0. 0. 0.]\n",
      " ...\n",
      " [0. 0. 0. ... 0. 0. 0.]\n",
      " [0. 0. 0. ... 0. 0. 0.]\n",
      " [0. 0. 0. ... 0. 0. 0.]]\n",
      "target_cm (nan, nan)\n",
      "target_mask [[0. 0. 0. ... 0. 0. 0.]\n",
      " [0. 0. 0. ... 0. 0. 0.]\n",
      " [0. 0. 0. ... 0. 0. 0.]\n",
      " ...\n",
      " [0. 0. 0. ... 0. 0. 0.]\n",
      " [0. 0. 0. ... 0. 0. 0.]\n",
      " [0. 0. 0. ... 0. 0. 0.]]\n",
      "target_cm (nan, nan)\n"
     ]
    }
   ],
   "source": [
    "env.reset()\n",
    "env.set_zero_pose()\n",
    "env.set_target(env.T_CENTER_HIGH)\n",
    "env.apply_phi()"
   ]
  },
  {
   "cell_type": "code",
   "execution_count": 5,
   "id": "elementary-america",
   "metadata": {},
   "outputs": [
    {
     "data": {
      "image/png": "[encoded data removed]",
      "text/plain": [
       "<IPython.core.display.Image object>"
      ]
     },
     "metadata": {},
     "output_type": "display_data"
    },
    {
     "data": {
      "image/png": "[encoded data removed]",
      "text/plain": [
       "<IPython.core.display.Image object>"
      ]
     },
     "metadata": {},
     "output_type": "display_data"
    },
    {
     "data": {
      "text/plain": [
       "(1.8291857631118937, 1.5707963267948961)"
      ]
     },
     "execution_count": 5,
     "metadata": {},
     "output_type": "execute_result"
    }
   ],
   "source": [
    "showarray(env.side_cam.getRGBAImage())\n",
    "showarray(env.eye_cam.getRGBAImage())\n",
    "env.alpha, env.eye_level"
   ]
  },
  {
   "cell_type": "markdown",
   "id": "asian-traffic",
   "metadata": {},
   "source": [
    "(1.6284704453404226, 1.5707963267948963)"
   ]
  },
  {
   "cell_type": "markdown",
   "id": "tested-tract",
   "metadata": {},
   "source": [
    "## TEST2: the target goes to the lowest end"
   ]
  },
  {
   "cell_type": "code",
   "execution_count": 6,
   "id": "golden-dutch",
   "metadata": {},
   "outputs": [
    {
     "name": "stdout",
     "output_type": "stream",
     "text": [
      "target_mask [[0. 0. 0. ... 0. 0. 0.]\n",
      " [0. 0. 0. ... 0. 0. 0.]\n",
      " [0. 0. 0. ... 0. 0. 0.]\n",
      " ...\n",
      " [0. 0. 0. ... 0. 0. 0.]\n",
      " [0. 0. 0. ... 0. 0. 0.]\n",
      " [0. 0. 0. ... 0. 0. 0.]]\n",
      "target_cm (nan, nan)\n"
     ]
    }
   ],
   "source": [
    "env.set_target(env.T_CENTER_LOW)\n",
    "env.apply_phi()"
   ]
  },
  {
   "cell_type": "code",
   "execution_count": 7,
   "id": "familiar-crest",
   "metadata": {},
   "outputs": [
    {
     "data": {
      "image/png": "[encoded data removed]",
      "text/plain": [
       "<IPython.core.display.Image object>"
      ]
     },
     "metadata": {},
     "output_type": "display_data"
    },
    {
     "data": {
      "image/png": "[encoded data removed]",
      "text/plain": [
       "<IPython.core.display.Image object>"
      ]
     },
     "metadata": {},
     "output_type": "display_data"
    },
    {
     "data": {
      "text/plain": [
       "(2.1094721483522783, 1.5707963267948961)"
      ]
     },
     "execution_count": 7,
     "metadata": {},
     "output_type": "execute_result"
    }
   ],
   "source": [
    "showarray(env.side_cam.getRGBAImage())\n",
    "showarray(env.eye_cam.getRGBAImage())\n",
    "env.alpha, env.eye_level"
   ]
  },
  {
   "cell_type": "markdown",
   "id": "spatial-scientist",
   "metadata": {},
   "source": [
    "## TEST 3: PERFECT AIM at T_LOW"
   ]
  },
  {
   "cell_type": "code",
   "execution_count": 8,
   "id": "careful-schedule",
   "metadata": {},
   "outputs": [
    {
     "name": "stdout",
     "output_type": "stream",
     "text": [
      "target_mask [[0. 0. 0. ... 0. 0. 0.]\n",
      " [0. 0. 0. ... 0. 0. 0.]\n",
      " [0. 0. 0. ... 0. 0. 0.]\n",
      " ...\n",
      " [0. 0. 0. ... 0. 0. 0.]\n",
      " [0. 0. 0. ... 0. 0. 0.]\n",
      " [0. 0. 0. ... 0. 0. 0.]]\n",
      "target_cm (111.0, 112.02813599062134)\n"
     ]
    }
   ],
   "source": [
    "env.phi = np.array([np.pi/4,0, np.pi/4,0, 0,0])\n",
    "env.apply_phi()"
   ]
  },
  {
   "cell_type": "code",
   "execution_count": 9,
   "id": "wicked-collective",
   "metadata": {},
   "outputs": [
    {
     "data": {
      "image/png": "[encoded data removed]",
      "text/plain": [
       "<IPython.core.display.Image object>"
      ]
     },
     "metadata": {},
     "output_type": "display_data"
    },
    {
     "data": {
      "image/png": "[encoded data removed]",
      "text/plain": [
       "<IPython.core.display.Image object>"
      ]
     },
     "metadata": {},
     "output_type": "display_data"
    },
    {
     "data": {
      "text/plain": [
       "(0.0, 0.0)"
      ]
     },
     "execution_count": 9,
     "metadata": {},
     "output_type": "execute_result"
    }
   ],
   "source": [
    "showarray(env.side_cam.getRGBAImage())\n",
    "showarray(env.eye_cam.getRGBAImage())\n",
    "env.alpha, env.eye_level"
   ]
  },
  {
   "cell_type": "markdown",
   "id": "compound-archive",
   "metadata": {},
   "source": [
    "## TEST 4: PERFECT AIM at T_HIGH"
   ]
  },
  {
   "cell_type": "code",
   "execution_count": 10,
   "id": "prime-immunology",
   "metadata": {},
   "outputs": [
    {
     "name": "stdout",
     "output_type": "stream",
     "text": [
      "target_mask [[0. 0. 0. ... 0. 0. 0.]\n",
      " [0. 0. 0. ... 0. 0. 0.]\n",
      " [0. 0. 0. ... 0. 0. 0.]\n",
      " ...\n",
      " [0. 0. 0. ... 0. 0. 0.]\n",
      " [0. 0. 0. ... 0. 0. 0.]\n",
      " [0. 0. 0. ... 0. 0. 0.]]\n",
      "target_cm (111.0, 111.95209580838323)\n"
     ]
    }
   ],
   "source": [
    "env.set_target(env.T_CENTER_HIGH)\n",
    "env.phi = np.array([0,0, np.pi/4,0,np.pi/4,0])\n",
    "env.apply_phi()"
   ]
  },
  {
   "cell_type": "code",
   "execution_count": 11,
   "id": "declared-spain",
   "metadata": {},
   "outputs": [
    {
     "data": {
      "image/png": "[encoded data removed]",
      "text/plain": [
       "<IPython.core.display.Image object>"
      ]
     },
     "metadata": {},
     "output_type": "display_data"
    },
    {
     "data": {
      "image/png": "[encoded data removed]",
      "text/plain": [
       "<IPython.core.display.Image object>"
      ]
     },
     "metadata": {},
     "output_type": "display_data"
    },
    {
     "data": {
      "text/plain": [
       "(0.0, 0.0)"
      ]
     },
     "execution_count": 11,
     "metadata": {},
     "output_type": "execute_result"
    }
   ],
   "source": [
    "showarray(env.side_cam.getRGBAImage())\n",
    "showarray(env.eye_cam.getRGBAImage())\n",
    "env.alpha, env.eye_level"
   ]
  },
  {
   "cell_type": "code",
   "execution_count": 12,
   "id": "complete-gender",
   "metadata": {},
   "outputs": [],
   "source": [
    "#env.close()"
   ]
  }
 ],
 "metadata": {
  "kernelspec": {
   "display_name": "Python 3",
   "language": "python",
   "name": "python3"
  },
  "language_info": {
   "codemirror_mode": {
    "name": "ipython",
    "version": 3
   },
   "file_extension": ".py",
   "mimetype": "text/x-python",
   "name": "python",
   "nbconvert_exporter": "python",
   "pygments_lexer": "ipython3",
   "version": "3.6.13"
  }
 },
 "nbformat": 4,
 "nbformat_minor": 5
}
